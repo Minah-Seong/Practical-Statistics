{
 "cells": [
  {
   "cell_type": "markdown",
   "id": "474ef1b7-1717-4d1f-bf8f-64ea811670c2",
   "metadata": {
    "tags": []
   },
   "source": [
    "# __2. 데이터와 표본분포__"
   ]
  },
  {
   "cell_type": "markdown",
   "id": "eed95bdd-dec4-4dc6-bad3-86367dd383cb",
   "metadata": {
    "tags": []
   },
   "source": [
    "##### 파이썬 패키지, 데이터 import"
   ]
  },
  {
   "cell_type": "code",
   "execution_count": 1,
   "id": "6089c6cc-3921-4ab9-ab99-0b09c49f521b",
   "metadata": {},
   "outputs": [],
   "source": [
    "%matplotlib inline\n",
    "\n",
    "from pathlib import Path\n",
    "import pandas as pd\n",
    "import numpy as np\n",
    "from scipy import stats\n",
    "from sklearn.utils import resample\n",
    "\n",
    "import seaborn as sns\n",
    "import matplotlib.pylab as plt"
   ]
  },
  {
   "cell_type": "code",
   "execution_count": 2,
   "id": "d681d49b-8880-45df-a0df-9e8dd0b2ec88",
   "metadata": {},
   "outputs": [],
   "source": [
    "state = pd.read_csv('./data/state.csv')\n",
    "dfw = pd.read_csv('./data/dfw_airline.csv')\n",
    "sp500_px = pd.read_csv('./data/sp500_data.csv.gz', index_col=0)\n",
    "sp500_sym = pd.read_csv('./data/sp500_sectors.csv')\n",
    "kc_tax = pd.read_csv('./data/kc_tax.csv.gz')\n",
    "lc_loans = pd.read_csv('./data/lc_loans.csv')\n",
    "airline_stats = pd.read_csv('./data/airline_stats.csv')\n",
    "loans_income = pd.read_csv('./data/loans_income.csv').squeeze('columns')"
   ]
  },
  {
   "cell_type": "markdown",
   "id": "ea8095c2-5e4b-47c5-a33b-a4dea3215cd0",
   "metadata": {
    "tags": []
   },
   "source": [
    "## __2.1 임의표본추출과 표본편향__"
   ]
  },
  {
   "cell_type": "markdown",
   "id": "c3e758a7-c4df-4b8e-9454-37cd39ebda41",
   "metadata": {},
   "source": [
    "#### __표본__ : 더 큰 데이터 집합(모집단)으로부터 얻은 부분집합\n",
    "#### __모집단__ : 어떤 데이터 집합을 구성하는 전체 대항 혹은 전체 집합 (이론적인 가상의 집합을 의미하기도 함)\n",
    "#### __N__ : 모집단(표본)의 크기"
   ]
  },
  {
   "cell_type": "markdown",
   "id": "0314b20b-0adb-4ca0-b868-9226cc12e139",
   "metadata": {},
   "source": [
    "#### __임의표본추출(임의표집, 랜덤표본추출)__ : 모집단 내 선택 가능한 원소들을 무작위로 표본 추출\n",
    "#### __단순임의표본__ : 임의표본추출로 얻은 표본\n",
    "#### 복원추출 : 중복 추출이 가능하도록 해당 샘플을 다시 모집단에 포함시킴\n",
    "#### 비복원추출 : 한 번 뽑힌 원소는 추후 추첨에 사용하지 않음"
   ]
  },
  {
   "cell_type": "markdown",
   "id": "69c49d58-4d27-4155-8e5b-6a33f0d7b2a9",
   "metadata": {},
   "source": [
    "#### __층화표본추출(층화표집)__ : 모집단을 층으로 나눈 뒤, 각 층에서 무작위로 표본을 추출하는 것\n",
    "#### __계층__ : 공통된 특징을 가진 모집단의 동종 하위 그룹"
   ]
  },
  {
   "cell_type": "markdown",
   "id": "0bb0dcce-7611-40ca-a7ef-7201fd81cf54",
   "metadata": {},
   "source": [
    "#### __대표성__ : 완결성, 형식의 일관성, 깨끗함 및 각 데이터 값의 정확성"
   ]
  },
  {
   "cell_type": "markdown",
   "id": "b69d6c5b-010f-4908-b39d-10e5228b19fe",
   "metadata": {},
   "source": [
    "#### __편향(bias)__ : 측정 과정 혹은 표본추출과정에서 발생하는 계통적인(systematic) 오차\n",
    "#### __표본편항__ : 모집단을 잘못 대표하는 표본\n",
    "#### 대표되도록 의도된 모집단으로부터 추출되지 않고 비임의(nonrandom) 방식으로 표본이 추출"
   ]
  },
  {
   "cell_type": "markdown",
   "id": "835454d2-d607-48e4-83d9-648c8201a186",
   "metadata": {},
   "source": [
    "\n"
   ]
  },
  {
   "cell_type": "markdown",
   "id": "3c2f0311-bf0d-4ade-8f85-23d8c9cda3bd",
   "metadata": {},
   "source": [
    "## __2.2 선택편향__"
   ]
  },
  {
   "cell_type": "markdown",
   "id": "c2523aef-d092-495a-b81b-39021f9ef629",
   "metadata": {},
   "source": [
    "#### __선택편향__ : 관측 데이터를 선택하는 방식 때문에 생기는 편향\n",
    "#### 데이터 스누핑 : 뭔가 흥미로운 것을 찾아 광범위하게 데이터를 살피는 것\n",
    "#### 방대한 검색 효과 : 중복 데이터 모델링이나 너무 많은 예측변수를 고려하는 모델링에서 비롯되는 편향 혹은 비재현성"
   ]
  },
  {
   "cell_type": "markdown",
   "id": "4c7d4aed-0558-47fa-97b0-8d5cb16d0f98",
   "metadata": {},
   "source": [
    "#### __평균으로의 회귀__ : 주어딘 어떤 변수를 연속적으로 측정했을 때 나타나는 현상"
   ]
  },
  {
   "cell_type": "markdown",
   "id": "f695c6f2-f3ac-4cb0-981f-9ec552196933",
   "metadata": {},
   "source": [
    "\n"
   ]
  },
  {
   "cell_type": "markdown",
   "id": "842c4f50-5a87-499e-942e-032ee63ddcde",
   "metadata": {},
   "source": [
    "## __2.3 통계학에서의 표본분포__"
   ]
  },
  {
   "cell_type": "markdown",
   "id": "1950e765-b09a-4746-b959-bcb598c49c0b",
   "metadata": {},
   "source": [
    "#### __표본통계량__ :  모집단에서 추출된 표본 데이터들로부터 얻은 측정 지표\n",
    "#### 일반적으로 표본통계량으로 어떤것을 측정하거나 무언가를 모델링 하기 위해 표본을 추출함\n"
   ]
  },
  {
   "cell_type": "markdown",
   "id": "923d0c30-0e74-4be3-8182-2d75599bfdde",
   "metadata": {},
   "source": [
    "#### __데이터 분포__ : 어떤 데이터 집합에서 각 개별 __값__의 도수분포\n",
    "#### __표본 분포(sampling distribution)__ : 여러 표본들 혹은 재표본들로부터 얻은 표본통계량의 도수분포표\n",
    "#### 데이터 분포라고 알려진 개별 데이터 포인트의 분포와 표본분포라고 알려진 표본통계량의 분포를 구별하는 것이 중요\n",
    "#### 표본통계량의 분포는 데이터 자체의 분포보다 규칙적이고 종모양일 가능성이 높다.\n",
    "#### 표본이 클 수록 표본통계량의 분포가 좁아진다."
   ]
  },
  {
   "cell_type": "code",
   "execution_count": 12,
   "id": "ab500668-820d-4572-b1fa-ddbe7e6954fa",
   "metadata": {},
   "outputs": [
    {
     "data": {
      "text/html": [
       "<div>\n",
       "<style scoped>\n",
       "    .dataframe tbody tr th:only-of-type {\n",
       "        vertical-align: middle;\n",
       "    }\n",
       "\n",
       "    .dataframe tbody tr th {\n",
       "        vertical-align: top;\n",
       "    }\n",
       "\n",
       "    .dataframe thead th {\n",
       "        text-align: right;\n",
       "    }\n",
       "</style>\n",
       "<table border=\"1\" class=\"dataframe\">\n",
       "  <thead>\n",
       "    <tr style=\"text-align: right;\">\n",
       "      <th></th>\n",
       "      <th>income</th>\n",
       "      <th>type</th>\n",
       "    </tr>\n",
       "  </thead>\n",
       "  <tbody>\n",
       "    <tr>\n",
       "      <th>7713</th>\n",
       "      <td>75000.0</td>\n",
       "      <td>Data</td>\n",
       "    </tr>\n",
       "    <tr>\n",
       "      <th>49463</th>\n",
       "      <td>60000.0</td>\n",
       "      <td>Data</td>\n",
       "    </tr>\n",
       "    <tr>\n",
       "      <th>20218</th>\n",
       "      <td>37233.0</td>\n",
       "      <td>Data</td>\n",
       "    </tr>\n",
       "    <tr>\n",
       "      <th>46380</th>\n",
       "      <td>64000.0</td>\n",
       "      <td>Data</td>\n",
       "    </tr>\n",
       "    <tr>\n",
       "      <th>32555</th>\n",
       "      <td>44000.0</td>\n",
       "      <td>Data</td>\n",
       "    </tr>\n",
       "  </tbody>\n",
       "</table>\n",
       "</div>"
      ],
      "text/plain": [
       "        income  type\n",
       "7713   75000.0  Data\n",
       "49463  60000.0  Data\n",
       "20218  37233.0  Data\n",
       "46380  64000.0  Data\n",
       "32555  44000.0  Data"
      ]
     },
     "execution_count": 12,
     "metadata": {},
     "output_type": "execute_result"
    }
   ],
   "source": [
    "# 렌딩 클럽에 대출을 신청한 사람들을 평가하기 위한 연간 소득 정보를 사용하는 예\n",
    "# 1000개의 앖으로 이뤄진 표본, 5개 값의 평균 1000개로 이뤄진 표본, 20개 값의 평균 1000개로 이뤄진 표본\n",
    "\n",
    "sample_data = pd.DataFrame({\n",
    "    'income': loans_income.sample(1000),\n",
    "    'type':'Data',\n",
    "})\n",
    "\n",
    "sample_mean_05 = pd.DataFrame({\n",
    "    'income':[loans_income.sample(5).mean() for _ in range(1000)],\n",
    "    'type': 'Mean of 5',\n",
    "})\n",
    "\n",
    "sample_mean_20 = pd.DataFrame({\n",
    "    'income':[loans_income.sample(20).mean() for _ in range(1000)],\n",
    "    'type': 'Mean of 20',\n",
    "})\n",
    "results = pd.concat([sample_data, sample_mean_05, sample_mean_20])\n",
    "results.head()"
   ]
  },
  {
   "cell_type": "code",
   "execution_count": 11,
   "id": "7679d3a1-4181-4895-b9ca-31666b648777",
   "metadata": {},
   "outputs": [
    {
     "name": "stderr",
     "output_type": "stream",
     "text": [
      "findfont: Font family ['NanumSquare'] not found. Falling back to DejaVu Sans.\n"
     ]
    },
    {
     "data": {
      "text/plain": [
       "<seaborn.axisgrid.FacetGrid at 0x2dc87b50940>"
      ]
     },
     "execution_count": 11,
     "metadata": {},
     "output_type": "execute_result"
    },
    {
     "data": {
      "image/png": "[encoded data removed]",
      "text/plain": [
       "<Figure size 288x432 with 3 Axes>"
      ]
     },
     "metadata": {
      "needs_background": "light"
     },
     "output_type": "display_data"
    }
   ],
   "source": [
    "# 히스토그램\n",
    "\n",
    "g = sns.FacetGrid(results, col='type', col_wrap=1, height=2, aspect=2)\n",
    "g.map(plt.hist, 'income', range=[0,200000], bins=40)\n",
    "g.set_axis_labels('Income', 'Count')\n",
    "g.set_titles('{col_name}')"
   ]
  },
  {
   "cell_type": "markdown",
   "id": "c114c751-d46b-446f-991f-0362dce29ead",
   "metadata": {},
   "source": [
    "### __2.3.1 중심극한정리__"
   ]
  },
  {
   "cell_type": "markdown",
   "id": "69f46707-2e52-4ba2-90ad-f10d5854eb42",
   "metadata": {},
   "source": [
    "#### __중심극한정리__ : 모집단이 정규분포가 아니더라도, 표본크기가 충분하고 데이터가 정규성을 크게 이탈하지 않는 경우, 종 모양의 정규곡선을 따른다.\n",
    "#### 이를 이용해 표본분포에 대한 신뢰구간이나 가설검정을 계상하는데 t분포와 같은 정규근사 공식을 사용함"
   ]
  },
  {
   "cell_type": "markdown",
   "id": "ec267ff2-39e9-4654-b864-6a858234eb03",
   "metadata": {},
   "source": [
    "### __2.3.2 표준오차__"
   ]
  },
  {
   "cell_type": "markdown",
   "id": "505ef658-f802-4cfc-9839-87c15bb95b0d",
   "metadata": {},
   "source": [
    "#### __표준오차__ : 통계에 대한 표본분포의 변동성을 한마디로 말해주는 단일 측정 지표\n",
    "#### 표본 값들의 __표준편차 $s$와 표본크기 $n$__을 기반으로 한 통계량을 이용하여 추정\n",
    "### $SE = \\frac{s}{\\sqrt{n}}$"
   ]
  },
  {
   "cell_type": "markdown",
   "id": "13b8153a-70c9-411b-9efe-5124369344fd",
   "metadata": {},
   "source": [
    "#### __n제곱근의 법칙 : 표본크기가 커지면 표준오차가 줄어든다(표본크기는 표준오차에 반비례한다)__"
   ]
  },
  {
   "cell_type": "markdown",
   "id": "4ad513ff-18fa-4639-8ef8-8b613f002bd2",
   "metadata": {},
   "source": [
    "#### __표준오차 측정 시 고려사항__\n",
    "#### 모집단에서 완전히 새로운 샘플들을 많이 수집한다.\n",
    "#### 각각의 새 샘플에 대해 통계량(예 : 평균)을 계산한다.\n",
    "#### 2단계에서 얻은 통계량의 표준편차를 계산한다. 이것을 표준오차의 추정치로 사용한다."
   ]
  },
  {
   "cell_type": "markdown",
   "id": "ea305c58-e333-44e0-b9fd-11112489ef11",
   "metadata": {},
   "source": [
    "#### __표준편차와 표준오차__\n",
    "#### 개별 데이터 포인트의 변동성을 측정 -> __표준편차__\n",
    "#### 표본 측정 지표의 변동성을 측정 -> __표준오차__"
   ]
  },
  {
   "cell_type": "markdown",
   "id": "e30b68e5-7965-452e-b614-ad0be8da8a8f",
   "metadata": {},
   "source": [
    "\n"
   ]
  },
  {
   "cell_type": "markdown",
   "id": "2459a75c-68f4-4d62-a405-2346318ce75e",
   "metadata": {},
   "source": [
    "## __2.4 부트스트랩__"
   ]
  },
  {
   "cell_type": "markdown",
   "id": "018869c7-f5b7-44cf-a8a4-a423b106d0cd",
   "metadata": {},
   "source": [
    "#### __부트스트랩__ : 현재 있는 표본에서 추가적으로 표본을 복원추출하고 각 표본에 대한 통계량과 모델을 다시 계산하는 것"
   ]
  },
  {
   "cell_type": "markdown",
   "id": "0718fb81-0e43-4e15-9d15-3eb0887491fa",
   "metadata": {},
   "source": [
    "#### 부트스트랩 표본 : 관측 데이터 집합으로부터 얻은 복원추출 표본\n",
    "#### 재표본추출(재표집, 리샘플링) : 관측 데이터로부터 반복해서 표본추출하는 과정, 부트스트랩과 순열(셔플링) 과정 포함"
   ]
  },
  {
   "cell_type": "markdown",
   "id": "2d111350-d61a-4c25-ad2e-df45a8520bc5",
   "metadata": {},
   "source": [
    "#### 부트스트랩 재표본추출 알고리즘\n",
    "\n",
    "#### 1. 샘플 값을 하나 뽑아서 기록하고 다시 제자리에 놓는다.\n",
    "#### 2. n번 반복한다.\n",
    "#### 3. 재표본추출된 값의 평균을 기록한다.\n",
    "#### 4. 1~3단계를 R번 반복한다. (R은 임의로 설정, 반복 횟수가 많을 수록 표준오차나 신뢰구간에 대한 추정이 명확해짐)\n",
    "#### 5. R개의 결과를 사용하여\n",
    "* a. 표준편차(표본평균의 표준오차)를 계산한다.\n",
    "* b. 히스토그램 또는 상자그림을 그린다.\n",
    "* c. 신뢰구간을 찾는다.\n"
   ]
  },
  {
   "cell_type": "code",
   "execution_count": 4,
   "id": "879cc40f-f2a6-4750-aae2-03cab08b435f",
   "metadata": {},
   "outputs": [
    {
     "name": "stdout",
     "output_type": "stream",
     "text": [
      "Bootstrap Statistics\n",
      "original: 62000.0\n",
      "bias:-75.35250000000087\n",
      "std. error: 221.7005596111174\n"
     ]
    }
   ],
   "source": [
    "# 대출 신청자의 소득 데이터에 부트스트랩을 적용하는 코드\n",
    "\n",
    "results=[]\n",
    "for nrepeat in range(1000):\n",
    "    sample = resample(loans_income) # scikit-learn의 resample 메서드\n",
    "    results.append(sample.median())\n",
    "results = pd.Series(results)\n",
    "print('Bootstrap Statistics')\n",
    "print(f'original: {loans_income.median()}')\n",
    "print(f'bias:{results.mean() - loans_income.median()}')\n",
    "print(f'std. error: {results.std()}')"
   ]
  },
  {
   "cell_type": "code",
   "execution_count": null,
   "id": "2d78c0bb-6735-4b1a-9623-88881ffa2f01",
   "metadata": {},
   "outputs": [],
   "source": []
  },
  {
   "cell_type": "code",
   "execution_count": null,
   "id": "1ba01605-efe8-4b5e-983e-d511edec36ef",
   "metadata": {},
   "outputs": [],
   "source": []
  },
  {
   "cell_type": "code",
   "execution_count": null,
   "id": "8a518fa2-145b-43b8-853d-caedbba57957",
   "metadata": {},
   "outputs": [],
   "source": []
  },
  {
   "cell_type": "code",
   "execution_count": null,
   "id": "62379874-d121-401a-a814-c31d16c7354c",
   "metadata": {},
   "outputs": [],
   "source": []
  },
  {
   "cell_type": "code",
   "execution_count": null,
   "id": "a9855aa9-fc2f-4f18-ab7c-3c4665df85cb",
   "metadata": {},
   "outputs": [],
   "source": []
  },
  {
   "cell_type": "code",
   "execution_count": null,
   "id": "6bab8fd5-00d6-4587-b7a7-63c6c0b0c26d",
   "metadata": {},
   "outputs": [],
   "source": []
  },
  {
   "cell_type": "code",
   "execution_count": null,
   "id": "bc981bed-5ccf-43c9-b7c2-6a5187cb13dc",
   "metadata": {},
   "outputs": [],
   "source": []
  },
  {
   "cell_type": "code",
   "execution_count": null,
   "id": "46bff8c9-b039-424b-bcb7-f7b2862d29db",
   "metadata": {},
   "outputs": [],
   "source": []
  },
  {
   "cell_type": "code",
   "execution_count": null,
   "id": "8970e3b3-f17b-4e77-a00d-212d52462538",
   "metadata": {},
   "outputs": [],
   "source": []
  },
  {
   "cell_type": "code",
   "execution_count": null,
   "id": "6f83e0ff-ab8e-4be2-9d97-fdd54bb3773b",
   "metadata": {},
   "outputs": [],
   "source": []
  },
  {
   "cell_type": "code",
   "execution_count": null,
   "id": "f76a6b33-d149-435d-8413-fca02556c9d8",
   "metadata": {},
   "outputs": [],
   "source": []
  },
  {
   "cell_type": "code",
   "execution_count": null,
   "id": "75870f86-dd4c-4862-bd0d-124dc86b2e40",
   "metadata": {},
   "outputs": [],
   "source": []
  },
  {
   "cell_type": "code",
   "execution_count": null,
   "id": "280967ff-ec5c-42a7-9df5-d5fa0acfb9af",
   "metadata": {},
   "outputs": [],
   "source": []
  },
  {
   "cell_type": "code",
   "execution_count": null,
   "id": "c03d1291-c29d-4136-be7e-8850702a37c8",
   "metadata": {},
   "outputs": [],
   "source": []
  },
  {
   "cell_type": "code",
   "execution_count": null,
   "id": "c748fbf6-af42-4877-b7e6-1d8e851f380b",
   "metadata": {},
   "outputs": [],
   "source": []
  },
  {
   "cell_type": "code",
   "execution_count": null,
   "id": "c11236f4-e0cf-4284-aa9d-92facdc497d6",
   "metadata": {},
   "outputs": [],
   "source": []
  },
  {
   "cell_type": "code",
   "execution_count": null,
   "id": "bd10db74-2e03-497c-b07c-47a70a50bca7",
   "metadata": {},
   "outputs": [],
   "source": []
  }
 ],
 "metadata": {
  "kernelspec": {
   "display_name": "pydatavenv",
   "language": "python",
   "name": "pydatavenv"
  },
  "language_info": {
   "codemirror_mode": {
    "name": "ipython",
    "version": 3
   },
   "file_extension": ".py",
   "mimetype": "text/x-python",
   "name": "python",
   "nbconvert_exporter": "python",
   "pygments_lexer": "ipython3",
   "version": "3.9.12"
  }
 },
 "nbformat": 4,
 "nbformat_minor": 5
}
