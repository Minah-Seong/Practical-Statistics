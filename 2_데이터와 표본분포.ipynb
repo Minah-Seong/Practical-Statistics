{
 "cells": [
  {
   "cell_type": "markdown",
   "id": "474ef1b7-1717-4d1f-bf8f-64ea811670c2",
   "metadata": {
    "tags": []
   },
   "source": [
    "# __2. 데이터와 표본분포__"
   ]
  },
  {
   "cell_type": "markdown",
   "id": "eed95bdd-dec4-4dc6-bad3-86367dd383cb",
   "metadata": {
    "jp-MarkdownHeadingCollapsed": true,
    "tags": []
   },
   "source": [
    "##### 파이썬 패키지, 데이터 import"
   ]
  },
  {
   "cell_type": "code",
   "execution_count": null,
   "id": "6089c6cc-3921-4ab9-ab99-0b09c49f521b",
   "metadata": {},
   "outputs": [],
   "source": [
    "%matplotlib inline\n",
    "\n",
    "from pathlib import Path\n",
    "\n",
    "import pandas as pd\n",
    "import numpy as np\n",
    "from scipy.stats import trim_mean\n",
    "from statsmodels import robust\n",
    "import wquantiles\n",
    "\n",
    "import seaborn as sns\n",
    "import matplotlib.pylab as plt"
   ]
  },
  {
   "cell_type": "code",
   "execution_count": null,
   "id": "d681d49b-8880-45df-a0df-9e8dd0b2ec88",
   "metadata": {},
   "outputs": [],
   "source": [
    "state = pd.read_csv('./data/state.csv')\n",
    "dfw = pd.read_csv('./data/dfw_airline.csv')\n",
    "sp500_px = pd.read_csv('./data/sp500_data.csv.gz', index_col=0)\n",
    "sp500_sym = pd.read_csv('./data/sp500_sectors.csv')\n",
    "kc_tax = pd.read_csv('./data/kc_tax.csv.gz')\n",
    "lc_loans = pd.read_csv('./data/lc_loans.csv')\n",
    "airline_stats = pd.read_csv('./data/airline_stats.csv')"
   ]
  },
  {
   "cell_type": "markdown",
   "id": "ea8095c2-5e4b-47c5-a33b-a4dea3215cd0",
   "metadata": {
    "tags": []
   },
   "source": [
    "## __2.1 임의표본추출과 표본편향__"
   ]
  },
  {
   "cell_type": "markdown",
   "id": "c3e758a7-c4df-4b8e-9454-37cd39ebda41",
   "metadata": {},
   "source": [
    "#### __표본__ : 더 큰 데이터 집합(모집단)으로부터 얻은 부분집합\n",
    "#### __모집단__ : 어떤 데이터 집합을 구성하는 전체 대항 혹은 전체 집합 (이론적인 가상의 집합을 의미하기도 함)\n",
    "#### __N__ : 모집단(표본)의 크기"
   ]
  },
  {
   "cell_type": "markdown",
   "id": "0314b20b-0adb-4ca0-b868-9226cc12e139",
   "metadata": {},
   "source": [
    "#### __임의표본추출(임의표집, 랜덤표본추출)__ : 모집단 내 선택 가능한 원소들을 무작위로 표본 추출\n",
    "#### __단순임의표본__ : 임의표본추출로 얻은 표본\n",
    "#### 복원추출 : 중복 추출이 가능하도록 해당 샘플을 다시 모집단에 포함시킴\n",
    "#### 비복원추출 : 한 번 뽑힌 원소는 추후 추첨에 사용하지 않음"
   ]
  },
  {
   "cell_type": "markdown",
   "id": "69c49d58-4d27-4155-8e5b-6a33f0d7b2a9",
   "metadata": {},
   "source": [
    "#### __층화표본추출(층화표집)__ : 모집단을 층으로 나눈 뒤, 각 층에서 무작위로 표본을 추출하는 것\n",
    "#### __계층__ : 공통된 특징을 가진 모집단의 동종 하위 그룹"
   ]
  },
  {
   "cell_type": "markdown",
   "id": "0bb0dcce-7611-40ca-a7ef-7201fd81cf54",
   "metadata": {},
   "source": [
    "#### __대표성__ : 완결성, 형식의 일관성, 깨끗함 및 각 데이터 값의 정확성"
   ]
  },
  {
   "cell_type": "markdown",
   "id": "b69d6c5b-010f-4908-b39d-10e5228b19fe",
   "metadata": {},
   "source": [
    "#### __편향(bias)__ : 측정 과정 혹은 표본추출과정에서 발생하는 계통적인(systematic) 오차\n",
    "#### __표본편항__ : 모집단을 잘못 대표하는 표본\n",
    "#### 대표되도록 의도된 모집단으로부터 추출되지 않고 비임의(nonrandom) 방식으로 표본이 추출"
   ]
  },
  {
   "cell_type": "markdown",
   "id": "835454d2-d607-48e4-83d9-648c8201a186",
   "metadata": {},
   "source": [
    "\n"
   ]
  },
  {
   "cell_type": "markdown",
   "id": "3c2f0311-bf0d-4ade-8f85-23d8c9cda3bd",
   "metadata": {},
   "source": [
    "## __2.2 선택편향__"
   ]
  },
  {
   "cell_type": "markdown",
   "id": "c2523aef-d092-495a-b81b-39021f9ef629",
   "metadata": {},
   "source": [
    "#### __선택편향__ : 관측 데이터를 선택하는 방식 때문에 생기는 편향\n",
    "#### 데이터 스누핑 : 뭔가 흥미로운 것을 찾아 광범위하게 데이터를 살피는 것\n",
    "#### 방대한 검색 효과 : 중복 데이터 모델링이나 너무 많은 예측변수를 고려하는 모델링에서 비롯되는 편향 혹은 비재현성"
   ]
  },
  {
   "cell_type": "code",
   "execution_count": null,
   "id": "e840c685-3313-419e-b7e9-35c0b97400e9",
   "metadata": {},
   "outputs": [],
   "source": []
  },
  {
   "cell_type": "code",
   "execution_count": null,
   "id": "8ec7a1fa-000b-4a85-980a-179279fe7d03",
   "metadata": {},
   "outputs": [],
   "source": []
  },
  {
   "cell_type": "code",
   "execution_count": null,
   "id": "ab500668-820d-4572-b1fa-ddbe7e6954fa",
   "metadata": {},
   "outputs": [],
   "source": []
  },
  {
   "cell_type": "code",
   "execution_count": null,
   "id": "7679d3a1-4181-4895-b9ca-31666b648777",
   "metadata": {},
   "outputs": [],
   "source": []
  },
  {
   "cell_type": "code",
   "execution_count": null,
   "id": "17749e1c-17e5-4ffe-884b-4019bf6324f7",
   "metadata": {},
   "outputs": [],
   "source": []
  },
  {
   "cell_type": "code",
   "execution_count": null,
   "id": "6f6386d5-f76c-43b1-9cde-974bfc2deea9",
   "metadata": {},
   "outputs": [],
   "source": []
  },
  {
   "cell_type": "code",
   "execution_count": null,
   "id": "caccccfd-6a6b-45c9-bd70-a5b992f903da",
   "metadata": {},
   "outputs": [],
   "source": []
  },
  {
   "cell_type": "code",
   "execution_count": null,
   "id": "5d1466bf-50b0-451b-96dd-fe83057c6c4d",
   "metadata": {},
   "outputs": [],
   "source": []
  },
  {
   "cell_type": "code",
   "execution_count": null,
   "id": "a44c2fa0-0998-4898-a685-dc9764cb8c04",
   "metadata": {},
   "outputs": [],
   "source": []
  },
  {
   "cell_type": "code",
   "execution_count": null,
   "id": "2f34ef25-84c1-4fdd-9044-d888e83d600b",
   "metadata": {},
   "outputs": [],
   "source": []
  },
  {
   "cell_type": "code",
   "execution_count": null,
   "id": "1383f092-9dab-4fbe-9aa8-147512c6a108",
   "metadata": {},
   "outputs": [],
   "source": []
  },
  {
   "cell_type": "code",
   "execution_count": null,
   "id": "f7a6c1eb-ac44-4524-aaa6-f3199d27e91f",
   "metadata": {},
   "outputs": [],
   "source": []
  },
  {
   "cell_type": "code",
   "execution_count": null,
   "id": "3810fe81-6f3d-45b1-a2ea-4a3e8affa48c",
   "metadata": {},
   "outputs": [],
   "source": []
  },
  {
   "cell_type": "code",
   "execution_count": null,
   "id": "dc26913b-3614-48c3-ac0f-15879b1a2a5d",
   "metadata": {},
   "outputs": [],
   "source": []
  },
  {
   "cell_type": "code",
   "execution_count": null,
   "id": "5b5ab404-7a93-484c-a884-dc449c7c54f6",
   "metadata": {},
   "outputs": [],
   "source": []
  },
  {
   "cell_type": "code",
   "execution_count": null,
   "id": "148dd0a6-a295-40f6-a187-5b955c85f152",
   "metadata": {},
   "outputs": [],
   "source": []
  },
  {
   "cell_type": "code",
   "execution_count": null,
   "id": "2d78c0bb-6735-4b1a-9623-88881ffa2f01",
   "metadata": {},
   "outputs": [],
   "source": []
  },
  {
   "cell_type": "code",
   "execution_count": null,
   "id": "1ba01605-efe8-4b5e-983e-d511edec36ef",
   "metadata": {},
   "outputs": [],
   "source": []
  },
  {
   "cell_type": "code",
   "execution_count": null,
   "id": "8a518fa2-145b-43b8-853d-caedbba57957",
   "metadata": {},
   "outputs": [],
   "source": []
  },
  {
   "cell_type": "code",
   "execution_count": null,
   "id": "62379874-d121-401a-a814-c31d16c7354c",
   "metadata": {},
   "outputs": [],
   "source": []
  },
  {
   "cell_type": "code",
   "execution_count": null,
   "id": "a9855aa9-fc2f-4f18-ab7c-3c4665df85cb",
   "metadata": {},
   "outputs": [],
   "source": []
  },
  {
   "cell_type": "code",
   "execution_count": null,
   "id": "6bab8fd5-00d6-4587-b7a7-63c6c0b0c26d",
   "metadata": {},
   "outputs": [],
   "source": []
  },
  {
   "cell_type": "code",
   "execution_count": null,
   "id": "bc981bed-5ccf-43c9-b7c2-6a5187cb13dc",
   "metadata": {},
   "outputs": [],
   "source": []
  },
  {
   "cell_type": "code",
   "execution_count": null,
   "id": "46bff8c9-b039-424b-bcb7-f7b2862d29db",
   "metadata": {},
   "outputs": [],
   "source": []
  },
  {
   "cell_type": "code",
   "execution_count": null,
   "id": "8970e3b3-f17b-4e77-a00d-212d52462538",
   "metadata": {},
   "outputs": [],
   "source": []
  },
  {
   "cell_type": "code",
   "execution_count": null,
   "id": "6f83e0ff-ab8e-4be2-9d97-fdd54bb3773b",
   "metadata": {},
   "outputs": [],
   "source": []
  },
  {
   "cell_type": "code",
   "execution_count": null,
   "id": "f76a6b33-d149-435d-8413-fca02556c9d8",
   "metadata": {},
   "outputs": [],
   "source": []
  },
  {
   "cell_type": "code",
   "execution_count": null,
   "id": "75870f86-dd4c-4862-bd0d-124dc86b2e40",
   "metadata": {},
   "outputs": [],
   "source": []
  },
  {
   "cell_type": "code",
   "execution_count": null,
   "id": "280967ff-ec5c-42a7-9df5-d5fa0acfb9af",
   "metadata": {},
   "outputs": [],
   "source": []
  },
  {
   "cell_type": "code",
   "execution_count": null,
   "id": "c03d1291-c29d-4136-be7e-8850702a37c8",
   "metadata": {},
   "outputs": [],
   "source": []
  },
  {
   "cell_type": "code",
   "execution_count": null,
   "id": "c748fbf6-af42-4877-b7e6-1d8e851f380b",
   "metadata": {},
   "outputs": [],
   "source": []
  },
  {
   "cell_type": "code",
   "execution_count": null,
   "id": "c11236f4-e0cf-4284-aa9d-92facdc497d6",
   "metadata": {},
   "outputs": [],
   "source": []
  },
  {
   "cell_type": "code",
   "execution_count": null,
   "id": "bd10db74-2e03-497c-b07c-47a70a50bca7",
   "metadata": {},
   "outputs": [],
   "source": []
  }
 ],
 "metadata": {
  "kernelspec": {
   "display_name": "pydatavenv",
   "language": "python",
   "name": "pydatavenv"
  },
  "language_info": {
   "codemirror_mode": {
    "name": "ipython",
    "version": 3
   },
   "file_extension": ".py",
   "mimetype": "text/x-python",
   "name": "python",
   "nbconvert_exporter": "python",
   "pygments_lexer": "ipython3",
   "version": "3.9.12"
  }
 },
 "nbformat": 4,
 "nbformat_minor": 5
}
