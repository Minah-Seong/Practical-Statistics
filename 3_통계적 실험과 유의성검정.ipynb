{
 "cells": [
  {
   "cell_type": "markdown",
   "id": "e7f9e238-b8b9-48b2-9897-a6f57e1a83fb",
   "metadata": {},
   "source": [
    "# __3. 통계적 실험과 유의성 검정__"
   ]
  },
  {
   "cell_type": "markdown",
   "id": "4c125215-9f49-4759-9a5b-7d25b290d13c",
   "metadata": {
    "jp-MarkdownHeadingCollapsed": true,
    "tags": []
   },
   "source": [
    "##### 파이썬 패키지, 데이터 import"
   ]
  },
  {
   "cell_type": "code",
   "execution_count": 2,
   "id": "6089c6cc-3921-4ab9-ab99-0b09c49f521b",
   "metadata": {},
   "outputs": [],
   "source": [
    "%matplotlib inline\n",
    "\n",
    "from pathlib import Path\n",
    "import pandas as pd\n",
    "import numpy as np\n",
    "from scipy import stats\n",
    "from sklearn.utils import resample\n",
    "\n",
    "import seaborn as sns\n",
    "import matplotlib.pylab as plt"
   ]
  },
  {
   "cell_type": "code",
   "execution_count": 3,
   "id": "d681d49b-8880-45df-a0df-9e8dd0b2ec88",
   "metadata": {},
   "outputs": [],
   "source": [
    "state = pd.read_csv('./data/state.csv')\n",
    "dfw = pd.read_csv('./data/dfw_airline.csv')\n",
    "sp500_px = pd.read_csv('./data/sp500_data.csv.gz', index_col=0)\n",
    "sp500_sym = pd.read_csv('./data/sp500_sectors.csv')\n",
    "kc_tax = pd.read_csv('./data/kc_tax.csv.gz')\n",
    "lc_loans = pd.read_csv('./data/lc_loans.csv')\n",
    "airline_stats = pd.read_csv('./data/airline_stats.csv')\n",
    "loans_income = pd.read_csv('./data/loans_income.csv').squeeze('columns')"
   ]
  },
  {
   "cell_type": "markdown",
   "id": "ab4c1c2a-7583-4ee8-992e-84bf8f5ee2bb",
   "metadata": {},
   "source": [
    "#### 통계적 추론 : 제한된 데이터로 주어진 실험 결과를 더 큰 과정 또는 모집단에 적용하려는 의도를 반영한다.\n",
    "#### 통계 추론 과정\n",
    "1. 가설을 세운다\n",
    "2. 실험을 설계한다.\n",
    "3. 데이터를 수집한다.\n",
    "4. 추론 및 결론을 도출한다."
   ]
  },
  {
   "cell_type": "markdown",
   "id": "eae111e0-0a8e-47b8-a3da-977683776ca0",
   "metadata": {},
   "source": [
    "## __3.1 A/B 검정__"
   ]
  },
  {
   "cell_type": "markdown",
   "id": "2349d14f-d7a0-4b29-850b-86479773f7e6",
   "metadata": {},
   "source": [
    "#### __A/B 검정__ : 두 가지 처리 방법 중 어느 쪽이 다른 쪽보다 우월하다는 것을 알기 위해 __실험군을 두 그룹으로 나누어__ 진행하는 실험"
   ]
  },
  {
   "cell_type": "markdown",
   "id": "af6494f3-5897-4ecd-94ad-75b91ad1a742",
   "metadata": {},
   "source": [
    "#### __처리(treatment)__ : 어떤 대상에 주어지는 특별한 환경이나 조건\n",
    "#### 서로 다른 처리 조건을 제외한 __나머지 조건들은 정확히 동일하게 처리된다.__\n",
    "#### __처리군(처리 그룹)__ : 특정 처리에 노출된 대상들의 집단\n",
    "#### __대조군(대조 그룹, control group)__ : 어떤 처리도 하지 않은 대상들의 집단"
   ]
  },
  {
   "cell_type": "markdown",
   "id": "7c1de8b5-9d54-4e3e-98d1-64741912bed8",
   "metadata": {},
   "source": [
    "#### __임의화(ramdomization)__ : 처리를 적용할 대상을 임의로 결정하는 과정\n",
    "#### __대상(subject)__ : 처리를 적용할 개체 대상\n",
    "#### __검정통계량(test statistic)__ : 처리 효과를 측정하기 위한 지표"
   ]
  },
  {
   "cell_type": "markdown",
   "id": "c1a06510-b109-45f3-94aa-affab7f8ae7f",
   "metadata": {},
   "source": [
    "#### 처리군 간의 차이는 다음의 이유로 발생함\n",
    "* 다른 처리의 효과\n",
    "* 어떤 대상이 어떤 처리에 배정될 지에 대한 경우의 수(무작위로 배정한 결과, 자연스럽게 더 좋은 결과를 보이는 대상들이 한 쪽에 집중됨)"
   ]
  },
  {
   "cell_type": "markdown",
   "id": "44ffcaad-3139-4765-ba5d-0d5e8bdfc9ac",
   "metadata": {},
   "source": [
    "#### __대조군이 필요한 이유__ : 대조군이 없을 경우, '모든 다른 것들은 동일하다'는 보장이 없으며 어떤 차이가 처리 혹은 우연 때문인 지 알 수 없다."
   ]
  },
  {
   "cell_type": "markdown",
   "id": "0706cd48-53a2-47e8-9323-61564db62fad",
   "metadata": {},
   "source": [
    "#### 일반적인 A/B 검정 실험에서는 __미리 하나의 측정 지표를 결정해야 한다.__\n",
    "#### 실험을 수행한 뒤 나중에 검정통계량을 선택한다면, __연구자 편향__ 이라는 함정에 빠지게 된다."
   ]
  },
  {
   "cell_type": "markdown",
   "id": "b742fd3f-55c5-4000-9eb2-a30c91c7c165",
   "metadata": {},
   "source": [
    "\n"
   ]
  },
  {
   "cell_type": "markdown",
   "id": "83e083ec-2f5f-42f9-a61b-4ee7f9c46776",
   "metadata": {},
   "source": [
    "## __3.2 가설검정__"
   ]
  },
  {
   "cell_type": "markdown",
   "id": "28c58992-1a82-448c-a156-18c2519ec664",
   "metadata": {},
   "source": [
    "#### __가설검정(hypothesis test)__ : 관찰된 효과가 우연에 의한 것인지 여부를 나타내는 것 __(= 유의성 검정, significance test)__\n",
    "#### 연구자가 랜덤하게 우연히 일어난 일에 속지 않도록 보호하기 위한 방법"
   ]
  },
  {
   "cell_type": "markdown",
   "id": "019937db-4f44-49f5-a1ca-84cdaf1faec4",
   "metadata": {},
   "source": [
    "#### ex: 동전던지기 50번 수행한다고 가정, 앞면(H)과 뒷면(T)을 예측해서 기록 후 실제로 50회 던지기 수행\n",
    "#### 실제로 동전을 던진 결과를 임의로 예측한 결과와 구분하여 서로 다른 더미에 놓도록 함\n",
    "#### 실제 결과에는 H or T가 연속적으로 나오는 경우가 더 길게 나타남.\n",
    "#### 그러나, 대부분으 사람에게 랜덤한 동전 던지기를 예측하라고 했을 때, H를 3~4번 연속으로 나오게 한 뒤에ㅐ는 무작위이기 위해서 T가 나올 차례라고 속임."
   ]
  },
  {
   "cell_type": "markdown",
   "id": "99f3da6a-5ecb-4f5d-842b-993d5adc3006",
   "metadata": {},
   "source": [
    "#### 적절하게 설계된 A/B 검정에서, A와 B 사이의 관찰된 차이가 다음의 원인들로 설명될 수 있도록 A와 B에 대한 데이터를 수집\n",
    "* 우연한 대상 선정\n",
    "* A와 B의 진정한 차이"
   ]
  },
  {
   "cell_type": "markdown",
   "id": "e111ed16-8405-46c9-bb2f-80a3bb717669",
   "metadata": {},
   "source": [
    "#### 통계 가설검정은 그룹 A와 B 사이에서 보이는 차이가 우연에 의한 것인지 평가하기 위해, 더 나아가 그 외 여러 무작위 실험을 포함하는 분석"
   ]
  },
  {
   "cell_type": "markdown",
   "id": "d51dd751-5dda-479a-8b38-88b68e1fb0b4",
   "metadata": {},
   "source": [
    "### __3.2.1 귀무가설__"
   ]
  },
  {
   "cell_type": "markdown",
   "id": "fccfd521-ab22-426c-b3ad-249d1dc36207",
   "metadata": {},
   "source": [
    "#### 가설검정의 전제 : 실험에서 얻은 그룹 간의 차이가 무작위로 얻을 수 있는 __합리적인 수준과는 극단적으로 다르다는 증거__ 가 있다."
   ]
  },
  {
   "cell_type": "markdown",
   "id": "e0e700fe-685d-497c-875c-516b18979efb",
   "metadata": {},
   "source": [
    "#### __귀무가설(null hypothesis)__ : __'그룹들이 보이는 결과는 서로 동일하며, 그룹 간의 차이는 우연에 결과이다'__ 라는 기본 가정\n",
    "#### 귀무가설이 __틀렸다__ 라는 것을 입중하여, A그룹과 B그룹 간 차이가 우연이 아니라는 것을 보여주는 것이 목표"
   ]
  },
  {
   "cell_type": "markdown",
   "id": "8c201f5b-a69d-4261-8f7d-20efbea73f3d",
   "metadata": {},
   "source": [
    "### __3.2.2 대립가설__"
   ]
  },
  {
   "cell_type": "markdown",
   "id": "79e282ca-9838-44d2-bace-693b0306203d",
   "metadata": {},
   "source": [
    "#### __대립가설(alternative hypothesis)__ : 귀무가설과 대조되는 가설, (증명하고자 하는 가설)"
   ]
  },
  {
   "cell_type": "markdown",
   "id": "7aa6fbcb-ffbb-401f-8591-9e24fc108600",
   "metadata": {},
   "source": [
    "#### 대립가설과 귀무가설의 예시\n",
    "\n",
    "1. * 귀무가설: 그룹 A와 그룹 B의 평균에는 차이가 없다\n",
    "    * 대립가설: A와 B의 평균에는 차이가 있다.\n",
    "2. * 귀무가설: A $\\leq$ B\n",
    "    * 대립가설: A > B\n",
    "3. * 귀무가설: B는 A보다 X% 더 크지 않다.\n",
    "    * 대립가설: B는 A보다 X% 크다."
   ]
  },
  {
   "cell_type": "markdown",
   "id": "d6556e4f-9c94-4ded-8ea6-3e3b9b6d8636",
   "metadata": {},
   "source": [
    "### __3.2.3 일원/이원 가설검정__"
   ]
  },
  {
   "cell_type": "markdown",
   "id": "e8009631-28cd-4c17-878b-369cee3c855f",
   "metadata": {},
   "source": [
    "#### __일원 검정(one-way test)__ : 한 방향(단방향)으로만 우연히 일어날 확률을 계산하는 가설검정(한 쪽 꼬리)\n",
    "#### __이원 검정(two-way test)__ : 양방향으로 우연히ㅔ 일어날 확률을 계산하는 가설검정 (양쪽 꼬리) -> default"
   ]
  },
  {
   "cell_type": "code",
   "execution_count": null,
   "id": "ae0126ec-fb36-4076-8836-6ca474591814",
   "metadata": {},
   "outputs": [],
   "source": []
  },
  {
   "cell_type": "code",
   "execution_count": null,
   "id": "28482c55-7e90-4ae5-97f7-f691527c8ba6",
   "metadata": {},
   "outputs": [],
   "source": []
  },
  {
   "cell_type": "code",
   "execution_count": null,
   "id": "d0071090-115b-48b3-ab3d-217a97dfe7c4",
   "metadata": {},
   "outputs": [],
   "source": []
  },
  {
   "cell_type": "code",
   "execution_count": null,
   "id": "ae719424-3bf4-44af-b084-a54ac7046131",
   "metadata": {},
   "outputs": [],
   "source": []
  },
  {
   "cell_type": "code",
   "execution_count": null,
   "id": "aa94f91c-a253-4cec-971c-564c066d7472",
   "metadata": {},
   "outputs": [],
   "source": []
  },
  {
   "cell_type": "code",
   "execution_count": null,
   "id": "b9461067-20c4-4600-b6df-b07ae602f0df",
   "metadata": {},
   "outputs": [],
   "source": []
  },
  {
   "cell_type": "code",
   "execution_count": null,
   "id": "fd649074-eb37-4c9c-9dad-f67132c57ea0",
   "metadata": {},
   "outputs": [],
   "source": []
  },
  {
   "cell_type": "code",
   "execution_count": null,
   "id": "2e2087a3-eaaa-45e7-a98a-f71e07ddd45e",
   "metadata": {},
   "outputs": [],
   "source": []
  },
  {
   "cell_type": "code",
   "execution_count": null,
   "id": "20bc39da-6452-41ed-b864-2f8c63083a23",
   "metadata": {},
   "outputs": [],
   "source": []
  },
  {
   "cell_type": "code",
   "execution_count": null,
   "id": "2fdad266-8a09-4a92-9ade-c01a06c6a141",
   "metadata": {},
   "outputs": [],
   "source": []
  },
  {
   "cell_type": "code",
   "execution_count": null,
   "id": "7a71ebfa-165c-4def-865b-6108f6906eb8",
   "metadata": {},
   "outputs": [],
   "source": []
  },
  {
   "cell_type": "code",
   "execution_count": null,
   "id": "969f1f47-2cb3-480f-9f50-8546317d6f1c",
   "metadata": {},
   "outputs": [],
   "source": []
  },
  {
   "cell_type": "code",
   "execution_count": null,
   "id": "273f2866-00eb-4120-be72-7e982844123b",
   "metadata": {},
   "outputs": [],
   "source": []
  },
  {
   "cell_type": "code",
   "execution_count": null,
   "id": "50fed177-58d0-4080-9c60-6d5cbf8f68b5",
   "metadata": {},
   "outputs": [],
   "source": []
  },
  {
   "cell_type": "code",
   "execution_count": null,
   "id": "c9c7fd4a-79da-4e67-9f6d-f8c031bcd20b",
   "metadata": {},
   "outputs": [],
   "source": []
  },
  {
   "cell_type": "code",
   "execution_count": null,
   "id": "8c8fa069-1679-4708-9073-60bf6036672c",
   "metadata": {},
   "outputs": [],
   "source": []
  },
  {
   "cell_type": "code",
   "execution_count": null,
   "id": "a6e9da44-9f18-49c3-ab3f-3f7af808ce6b",
   "metadata": {},
   "outputs": [],
   "source": []
  },
  {
   "cell_type": "code",
   "execution_count": null,
   "id": "f6082b07-e75f-47cd-b324-dbb9d9e20edb",
   "metadata": {},
   "outputs": [],
   "source": []
  },
  {
   "cell_type": "code",
   "execution_count": null,
   "id": "545deba9-8b25-4838-9510-c7793fff8a16",
   "metadata": {},
   "outputs": [],
   "source": []
  },
  {
   "cell_type": "code",
   "execution_count": null,
   "id": "4939d0be-2f99-46d7-9cb3-ffa3666ce566",
   "metadata": {},
   "outputs": [],
   "source": []
  },
  {
   "cell_type": "code",
   "execution_count": null,
   "id": "498ed19c-fa2b-4cf5-a0c8-4e99bfb4fe80",
   "metadata": {},
   "outputs": [],
   "source": []
  }
 ],
 "metadata": {
  "kernelspec": {
   "display_name": "pydatavenv",
   "language": "python",
   "name": "pydatavenv"
  },
  "language_info": {
   "codemirror_mode": {
    "name": "ipython",
    "version": 3
   },
   "file_extension": ".py",
   "mimetype": "text/x-python",
   "name": "python",
   "nbconvert_exporter": "python",
   "pygments_lexer": "ipython3",
   "version": "3.9.12"
  }
 },
 "nbformat": 4,
 "nbformat_minor": 5
}
