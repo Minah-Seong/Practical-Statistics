{
 "cells": [
  {
   "cell_type": "markdown",
   "id": "bfb5b8d3-d4e3-4455-827b-e67db8b78dba",
   "metadata": {},
   "source": [
    "# __1. 탐색적 데이터 분석__"
   ]
  },
  {
   "cell_type": "markdown",
   "id": "df26465e-9c51-43b3-bdf6-c63da6c19b4f",
   "metadata": {
    "tags": []
   },
   "source": [
    "##### 파이썬 패키지 import"
   ]
  },
  {
   "cell_type": "code",
   "execution_count": 3,
   "id": "afd3f636-8c27-4a25-897c-4348f4265c78",
   "metadata": {},
   "outputs": [],
   "source": [
    "%matplotlib inline\n",
    "\n",
    "from pathlib import Path\n",
    "\n",
    "import pandas as pd\n",
    "import numpy as np\n",
    "from scipy.stats import trim_mean\n",
    "from statsmodels import robust\n",
    "import wquantiles\n",
    "\n",
    "import seaborn as sns\n",
    "import matplotlib.pylab as plt"
   ]
  },
  {
   "cell_type": "markdown",
   "id": "fa301740-56ff-4c17-95bf-867833c03b90",
   "metadata": {},
   "source": [
    "데이터 import"
   ]
  },
  {
   "cell_type": "code",
   "execution_count": 4,
   "id": "86b07b45-691d-4a9a-8d45-a81ba53b32e9",
   "metadata": {},
   "outputs": [],
   "source": [
    "state = pd.read_csv('./data/state.csv')\n",
    "dfw = pd.read_csv('./data/dfw_airline.csv')\n",
    "sp500_px = pd.read_csv('./data/sp500_data.csv.gz', index_col=0)\n",
    "sp500_sym = pd.read_csv('./data/sp500_sectors.csv')\n",
    "kc_tax = pd.read_csv('./data/kc_tax.csv.gz')\n",
    "lc_loans = pd.read_csv('./data/lc_loans.csv')\n",
    "airline_stats = pd.read_csv('./data/airline_stats.csv')"
   ]
  },
  {
   "cell_type": "markdown",
   "id": "8086915e-23a2-4daa-b89a-c2155ae099f5",
   "metadata": {},
   "source": [
    "\n"
   ]
  },
  {
   "cell_type": "markdown",
   "id": "72daf81d-1531-4244-be9b-eada76c85009",
   "metadata": {
    "tags": []
   },
   "source": [
    "## __1.1 정형화된 데이터의 요소__"
   ]
  },
  {
   "cell_type": "markdown",
   "id": "52aeda9f-c314-4511-8cb8-cd9505824b1e",
   "metadata": {},
   "source": [
    "#### 수치형 : 숫자를 이용해 표현할 수 있는 데이터\n",
    "#### 연속형 : 일정 범위 안에서 어떤 값이든 취할 수 있는 데이터\n",
    "#### 이산 : 정수 값만 취할 수 있는 데이터\n",
    "#### 범주형 : 가능하나 범주 안의 값만을 취하는 데이터 (=명목형)\n",
    "#### 이진 : 두 개의 값만을 갖는 범주형 데이터의 특수한 경우\n",
    "#### 순서형 : 값들 사이에 분명한 순위가 있는 범주형 데이터"
   ]
  },
  {
   "cell_type": "markdown",
   "id": "9c658d10-bfc1-4ac3-a8e6-fe547d4e76fa",
   "metadata": {},
   "source": [
    "\n"
   ]
  },
  {
   "cell_type": "markdown",
   "id": "df71180d-b4e1-4d7e-8b28-4a983863d26f",
   "metadata": {
    "tags": []
   },
   "source": [
    "## __1.2 테이블 데이터__"
   ]
  },
  {
   "cell_type": "markdown",
   "id": "78f0c858-8593-4ace-9feb-4d0078cf8052",
   "metadata": {},
   "source": [
    "#### 테이블 데이터 : 스프레드시트와 같은 테이블 형테의 데이터 구조(이차원 행렬)\n",
    "#### 피처 : 일반적으로 테이블의 각 열\n",
    "#### 결과 : 데이터 과학 프로젝트의 목표: 어떠한 결과를 예측, 결과 예측을 위해 피처 사용\n",
    "#### 레코드 : 일반적으로 테이블의 각 행"
   ]
  },
  {
   "cell_type": "markdown",
   "id": "279f27e2-e69a-4f44-8e3c-01595d389fff",
   "metadata": {},
   "source": [
    "\n"
   ]
  },
  {
   "cell_type": "markdown",
   "id": "b445bc5b-756d-4c6d-a288-feb6ffbda97f",
   "metadata": {
    "jp-MarkdownHeadingCollapsed": true,
    "tags": []
   },
   "source": [
    "## __1.3 위치 추정__"
   ]
  },
  {
   "cell_type": "markdown",
   "id": "3b063569-33b7-4132-9864-3b66d203b390",
   "metadata": {
    "tags": []
   },
   "source": [
    "### __1.3.1 평균__"
   ]
  },
  {
   "cell_type": "markdown",
   "id": "1ff15376-a13e-431b-b8ab-ab65b3a56c4e",
   "metadata": {},
   "source": [
    "#### 평균 : 모든 값을 총합의 개수로 나눈 값\n",
    "## $\\bar{x} = \\frac{\\sum^n_{i=1}{x}_i}{n}$"
   ]
  },
  {
   "cell_type": "markdown",
   "id": "14eb7fa6-7e08-48c6-a2ed-750e83bd34b7",
   "metadata": {},
   "source": [
    "#### 절사평균 : 정해진 개수의 극단값을 제외한 나머지 값들의 평균\n",
    "#### p : 가장 크고 작은 값들의 개수\n",
    "## $\\bar{x} = \\frac{\\sum^{n-p}_{i=p+1} {x}_{(i)}}{n-2p}$"
   ]
  },
  {
   "cell_type": "markdown",
   "id": "470c95b5-4b85-463e-a5e5-5c0205fb197a",
   "metadata": {},
   "source": [
    "#### 가중평균 : 데이터를 정렬한 후, 각 가중치 값을 위에서부터 더할 때, 총합의 중간이 위치하는 데이터 값\n",
    "#### ${w_i} =$ 사용자가 지정한 가중치\n",
    "## $\\bar{x_i} = \\frac{\\sum^n_{i=1}w_i x_i}{\\sum^n_{i=1} {w_i}}$"
   ]
  },
  {
   "cell_type": "markdown",
   "id": "e97e63d9-0f9f-41d9-9976-498ad8155ead",
   "metadata": {},
   "source": [
    "### __1.3.2 중간값과 로버스트 추정__"
   ]
  },
  {
   "cell_type": "markdown",
   "id": "7bd57e26-6f5b-473f-990a-4b842c14b4b5",
   "metadata": {},
   "source": [
    "#### 중간값 : 데이터에서 가장 가운데 위치한 값\n",
    "#### 가중 중간값 : 데이터를 정렬한 후, 각 가중치 값을 위에서부터 더할 때, 총합의 중간이 위치하는 데이터 값\n",
    "#### 로버스트하다 : 극단값에 민감하지 않다\n",
    "#### 특잇값(outliner) : 대부분의 값과 매우 다른 데이터 값(=극단값)"
   ]
  },
  {
   "cell_type": "markdown",
   "id": "0ec4de28-7b26-4251-9bba-885a4bb3a2d9",
   "metadata": {},
   "source": [
    "### __예제 : 인구에 따른 살인 비율의 위치 추정__"
   ]
  },
  {
   "cell_type": "code",
   "execution_count": 3,
   "id": "1f32a804-64ee-4aeb-96b7-21e666b79425",
   "metadata": {},
   "outputs": [
    {
     "name": "stdout",
     "output_type": "stream",
     "text": [
      "6162876.3\n",
      "4783697.125\n",
      "4436369.5\n"
     ]
    }
   ],
   "source": [
    "print(state['Population'].mean()) # 평균\n",
    "print(trim_mean(state['Population'],0.1)) # 절사평균\n",
    "print(state['Population'].median()) # 중간값"
   ]
  },
  {
   "cell_type": "code",
   "execution_count": 4,
   "id": "4f27e4f4-a00e-4be3-a48e-40881d183759",
   "metadata": {},
   "outputs": [
    {
     "name": "stdout",
     "output_type": "stream",
     "text": [
      "4.445833981123393\n",
      "4.4\n"
     ]
    }
   ],
   "source": [
    "# 가중평균\n",
    "\n",
    "print(np.average(state['Murder.Rate'], weights=state['Population'])) # 가중평균\n",
    "print(wquantiles.median(state['Murder.Rate'], weights=state['Population'])) # 가중 중간값"
   ]
  },
  {
   "cell_type": "markdown",
   "id": "1996bc73-a2b9-48d6-8dbb-303a38fc8ba5",
   "metadata": {},
   "source": [
    "\n"
   ]
  },
  {
   "cell_type": "markdown",
   "id": "e683303e-cc04-4d75-b77a-8c20530bcb54",
   "metadata": {
    "tags": []
   },
   "source": [
    "## __1.4 변이 추정__"
   ]
  },
  {
   "cell_type": "markdown",
   "id": "729c3d58-c842-422d-9ac5-59c5e342d586",
   "metadata": {},
   "source": [
    "#### 편차 : 관측값과 위치 추정값 사이의 차이 (=잔차)\n",
    "#### 평균절대편차 : 편차의 절댓값의 평균\n",
    "## 평균절대편차 = $\\frac{\\sum_{i=1}^{n} \\left\\vert{x_i-\\bar{x}}\\right\\vert}{n}$"
   ]
  },
  {
   "cell_type": "markdown",
   "id": "c8e09a23-b609-4983-a15d-63481c9891a1",
   "metadata": {},
   "source": [
    "#### 분산 : 잔차의 제곱의 평균, 잔차르르 제곱한 값을 n-1으로 나눈 값\n",
    "## $s^2 = \\frac{\\sum^n_{i=1}(x_i-\\bar{x})^2}{n-1}$"
   ]
  },
  {
   "cell_type": "markdown",
   "id": "f4408ca1-c3c0-4f2d-b2fd-a24e9768659f",
   "metadata": {},
   "source": [
    "#### 표준편차 : 분산의 제곱근\n",
    "\n",
    "## $s = \\sqrt{분산}$"
   ]
  },
  {
   "cell_type": "markdown",
   "id": "f9ec47c2-b93e-4736-ab6a-c3f4162e0664",
   "metadata": {},
   "source": [
    "#### __자유도__\n",
    "#### 분산을 구할 떄 왜 n-1을 분모로 사용하는 가?\n",
    "\n",
    "#### 전제 : 표본을 가지고 모집단을 추정하고자 함\n",
    "#### 분산 수식에 n을 분모로 사용한다면, 모집단의 분산과 표준편차의 참값을 과소평가하게 됨 (=__편향 추정__)\n",
    "\n",
    "#### n을 사용하는 것이 편향 추정이 되는 이유\n",
    "#### 자유도 : 추정값을 계산할 때 제약 조건의 개수\n",
    "#### __표준편차는 표본의 평균을 따른다는 제약 조건이 있기 때문에 n-1의 자유도를 가진다.__"
   ]
  },
  {
   "cell_type": "markdown",
   "id": "7a4617b5-a1f4-40aa-8911-24c4ce981e5e",
   "metadata": {},
   "source": [
    "#### 중간값의 중위절대편차(MAD)\n",
    "\n",
    "### $MAD = 중간값(\\left\\vert x_1-m \\right\\vert), (\\left\\vert x_2-m \\right\\vert),\\cdots, (\\left\\vert x_N-m \\right\\vert)$"
   ]
  },
  {
   "cell_type": "markdown",
   "id": "cd9246f5-fb4f-40a8-adc2-55f8e47e2f14",
   "metadata": {},
   "source": [
    "### __1.4.2 백분위에 기초한 추정__"
   ]
  },
  {
   "cell_type": "markdown",
   "id": "5e5e5bab-e9c2-4250-a8f5-77b566f037cd",
   "metadata": {},
   "source": [
    "#### 순서통계량 : 정렬 데이터를 나타내는 통계량\n",
    "#### 기본 측도 : 가장 큰 값과 가장 작은 값의 차이를 나타내는 범위\n",
    "\n",
    "#### 백분위수 : 전체 데이터의 P%를 아래에 두는 값\n",
    "#### 데이터에서 P번째 백분위수는 P퍼센트의 값이 그 값, 그보다 작은 값을 갖고(100-P)퍼센트의 값이 그 값 혹은 그보다 큰 값을 갖는 어떤 값\n",
    "#### 사분위범위(IQR) : 25번째 백분위수와 75번째 백분위수의 차이"
   ]
  },
  {
   "cell_type": "markdown",
   "id": "d513fd57-c9a1-48bd-b311-96a06ba66f3a",
   "metadata": {},
   "source": [
    "### __예제 : 주별 인구의 변이 추정__"
   ]
  },
  {
   "cell_type": "code",
   "execution_count": 5,
   "id": "efb2f98f-7635-466a-aa86-15c41ea4727a",
   "metadata": {},
   "outputs": [
    {
     "data": {
      "text/plain": [
       "6848235.347401142"
      ]
     },
     "execution_count": 5,
     "metadata": {},
     "output_type": "execute_result"
    }
   ],
   "source": [
    "# pandas 메서드 활용\n",
    "\n",
    "state['Population'].std() # 표준편차"
   ]
  },
  {
   "cell_type": "code",
   "execution_count": 6,
   "id": "cb13b17a-2211-4e48-8ab3-e4f24006436f",
   "metadata": {},
   "outputs": [
    {
     "data": {
      "text/plain": [
       "4847308.0"
      ]
     },
     "execution_count": 6,
     "metadata": {},
     "output_type": "execute_result"
    }
   ],
   "source": [
    "state['Population'].quantile(0.75) - state['Population'].quantile(0.25) # IQR"
   ]
  },
  {
   "cell_type": "code",
   "execution_count": 7,
   "id": "d493b533-f642-4a7c-a85c-2fac0ed8b3c8",
   "metadata": {},
   "outputs": [
    {
     "data": {
      "text/plain": [
       "3849876.1459979336"
      ]
     },
     "execution_count": 7,
     "metadata": {},
     "output_type": "execute_result"
    }
   ],
   "source": [
    "robust.scale.mad(state['Population']) # MAD"
   ]
  },
  {
   "cell_type": "markdown",
   "id": "e4e0fc3b-e1a4-4086-8e55-5f03e521857f",
   "metadata": {},
   "source": [
    "\n"
   ]
  },
  {
   "cell_type": "markdown",
   "id": "e4e5e4ef-87b4-482c-bf6f-936bcda01a09",
   "metadata": {},
   "source": [
    "## __1.5 데이터 분포 탐색하기__"
   ]
  },
  {
   "cell_type": "markdown",
   "id": "200eae8b-e947-4aa4-8506-cacfa7bdf990",
   "metadata": {},
   "source": [
    "### __1.5.1 백분위수와 상자그림__"
   ]
  },
  {
   "cell_type": "markdown",
   "id": "20b83deb-1811-4a6c-ade8-5a32384f3082",
   "metadata": {},
   "source": [
    "#### 상자그림 : 데이터의 분포를 시각화하기 위한 간당한 방법으로 소개한 그림\n",
    "\n",
    "#### 백분위 수는 분포의 꼬리 부분(외측 범위)를 묘사하는데 적격"
   ]
  },
  {
   "cell_type": "markdown",
   "id": "225c05cd-3982-4035-a704-8bc2860adb66",
   "metadata": {},
   "source": [
    "### __예제 : 살인율의 백분위수__"
   ]
  },
  {
   "cell_type": "code",
   "execution_count": 8,
   "id": "2a3f2a8c-2d26-41fa-9275-7cd282ff227f",
   "metadata": {},
   "outputs": [
    {
     "data": {
      "text/plain": [
       "0.05    1.600\n",
       "0.25    2.425\n",
       "0.50    4.000\n",
       "0.75    5.550\n",
       "0.95    6.510\n",
       "Name: Murder.Rate, dtype: float64"
      ]
     },
     "execution_count": 8,
     "metadata": {},
     "output_type": "execute_result"
    }
   ],
   "source": [
    "state['Murder.Rate'].quantile([0.05, 0.25, 0.5, 0.75, 0.95])"
   ]
  },
  {
   "cell_type": "code",
   "execution_count": 9,
   "id": "b975fdb7-2fc3-45b8-9b78-36994fdc6cb4",
   "metadata": {},
   "outputs": [
    {
     "data": {
      "text/plain": [
       "Text(0, 0.5, 'Population (millions)')"
      ]
     },
     "execution_count": 9,
     "metadata": {},
     "output_type": "execute_result"
    },
    {
     "name": "stderr",
     "output_type": "stream",
     "text": [
      "findfont: Font family ['NanumSquare'] not found. Falling back to DejaVu Sans.\n"
     ]
    },
    {
     "data": {
      "image/png": "[encoded data removed]",
      "text/plain": [
       "<Figure size 432x288 with 1 Axes>"
      ]
     },
     "metadata": {
      "needs_background": "light"
     },
     "output_type": "display_data"
    }
   ],
   "source": [
    "# 상자그림\n",
    "\n",
    "ax = (state['Population']/1000000).plot.box()\n",
    "ax.set_ylabel('Population (millions)')"
   ]
  },
  {
   "cell_type": "markdown",
   "id": "c6e22408-7fe0-4461-9385-7ff0c84d98c3",
   "metadata": {},
   "source": [
    "#### 점선 : 수염 - 사분위범위의 1.5배 이상"
   ]
  },
  {
   "cell_type": "markdown",
   "id": "73dab46e-a25f-4c52-a6c9-6f12fba9aec0",
   "metadata": {},
   "source": [
    "###  __1.5.2 도수분포표와 히스토그램__"
   ]
  },
  {
   "cell_type": "markdown",
   "id": "ff2835c6-5e6b-43f5-9c36-747834747a72",
   "metadata": {},
   "source": [
    "#### 도수분포표 : 어떤 구간(bin)에 해당하는 수치 데이터 값들의 빈도를 나타내는 기록\n",
    "#### 히스토그램 : x축은 구간, y축은 빈도수를 나타내는 도수 테이블의 그림."
   ]
  },
  {
   "cell_type": "code",
   "execution_count": 10,
   "id": "243c7322-c01f-481c-bd5f-c75f396214fa",
   "metadata": {},
   "outputs": [
    {
     "data": {
      "text/plain": [
       "(526935.67, 4232659.0]      24\n",
       "(4232659.0, 7901692.0]      14\n",
       "(7901692.0, 11570725.0]      6\n",
       "(11570725.0, 15239758.0]     2\n",
       "(15239758.0, 18908791.0]     1\n",
       "(18908791.0, 22577824.0]     1\n",
       "(22577824.0, 26246857.0]     1\n",
       "(33584923.0, 37253956.0]     1\n",
       "(26246857.0, 29915890.0]     0\n",
       "(29915890.0, 33584923.0]     0\n",
       "Name: Population, dtype: int64"
      ]
     },
     "execution_count": 10,
     "metadata": {},
     "output_type": "execute_result"
    }
   ],
   "source": [
    "# 도수분포표\n",
    "binnedPopulation = pd.cut(state['Population'],10) # cut : 값들을 각 구간에 매핑\n",
    "binnedPopulation.value_counts() # 빈도 수"
   ]
  },
  {
   "cell_type": "code",
   "execution_count": 11,
   "id": "e8b5f64f-300f-438a-ab3d-0ac41dffcdba",
   "metadata": {},
   "outputs": [
    {
     "data": {
      "text/plain": [
       "Text(0.5, 0, 'Population (millions)')"
      ]
     },
     "execution_count": 11,
     "metadata": {},
     "output_type": "execute_result"
    },
    {
     "data": {
      "image/png": "[encoded data removed]",
      "text/plain": [
       "<Figure size 288x288 with 1 Axes>"
      ]
     },
     "metadata": {
      "needs_background": "light"
     },
     "output_type": "display_data"
    }
   ],
   "source": [
    "# 히스토그램\n",
    "ax = (state['Population'] / 1_000_000).plot.hist(figsize=(4,4))\n",
    "ax.set_xlabel('Population (millions)')"
   ]
  },
  {
   "cell_type": "markdown",
   "id": "1d8f2bb5-3bd0-4215-a28f-1f0472a9ad7f",
   "metadata": {},
   "source": [
    "###  __1.5.3 밀도 그림과 추정__"
   ]
  },
  {
   "cell_type": "markdown",
   "id": "37d64a7f-0275-4972-8334-e6e897e61ac6",
   "metadata": {},
   "source": [
    "#### 밀도그림 : 좀 더 부드러운 히스토그램, 히스토그램을 부드러운 곡선으로 나타낸 그림. 커널밀도추정을 주로 사용"
   ]
  },
  {
   "cell_type": "code",
   "execution_count": 11,
   "id": "efacc0d4-acca-4d68-8592-36f4b5b2b410",
   "metadata": {},
   "outputs": [
    {
     "data": {
      "text/plain": [
       "Text(0.5, 0, 'Murder Rate (per 100,000)')"
      ]
     },
     "execution_count": 11,
     "metadata": {},
     "output_type": "execute_result"
    },
    {
     "data": {
      "image/png": "[encoded data removed]",
      "text/plain": [
       "<Figure size 432x288 with 1 Axes>"
      ]
     },
     "metadata": {
      "needs_background": "light"
     },
     "output_type": "display_data"
    }
   ],
   "source": [
    "# 밀도 그림\n",
    "ax = state['Murder.Rate'].plot.hist(density=True, xlim=[0,12], bins=range(1,12))\n",
    "state['Murder.Rate'].plot.density(ax=ax) # 플롯이 동일한 그래프에 추가될 수 있도록, (곡선 = 밀도 그림)\n",
    "ax.set_xlabel('Murder Rate (per 100,000)')"
   ]
  },
  {
   "cell_type": "markdown",
   "id": "aff998ec-f2d1-4b9b-ba77-e797a70d13ef",
   "metadata": {},
   "source": [
    "\n"
   ]
  },
  {
   "cell_type": "markdown",
   "id": "a61447a8-3390-41b4-8079-ef06cf7d12f1",
   "metadata": {},
   "source": [
    "## __1.6 이진 데이터와 범주 데이터 탐색하기__"
   ]
  },
  {
   "cell_type": "markdown",
   "id": "991bc326-7a0f-4135-8269-b3be075fe172",
   "metadata": {},
   "source": [
    "#### 최빈값 : 데이터에서 가장 자주 등장하는 범주 혹은 값\n",
    "#### 기댓값 : 범주에 해당하는 어떤 수치가 있을 때, 범주의 출현 확률에 따른 평균\n",
    "#### 막대도표 : 각 범주의 빈도수 혹은 비율을 막대로 나타낸 그림\n",
    "#### 파이그림 : 각 범주의 빈도수 혹은 비율을 원의 부채꼴 모양으로 나타낸 그림"
   ]
  },
  {
   "cell_type": "markdown",
   "id": "0775b8b2-e6bc-4817-9d99-c9606821f6d6",
   "metadata": {},
   "source": [
    "### __예제 : 댈러스-포트워스 공항의 항공ㄴ이 운행 지연 원인별 퍼센트 비율__"
   ]
  },
  {
   "cell_type": "code",
   "execution_count": 12,
   "id": "4d40f934-9a78-410a-8cf3-c4f001f93b07",
   "metadata": {},
   "outputs": [
    {
     "data": {
      "text/plain": [
       "Text(0, 0.5, 'Count')"
      ]
     },
     "execution_count": 12,
     "metadata": {},
     "output_type": "execute_result"
    },
    {
     "data": {
      "image/png": "[encoded data removed]",
      "text/plain": [
       "<Figure size 288x288 with 1 Axes>"
      ]
     },
     "metadata": {
      "needs_background": "light"
     },
     "output_type": "display_data"
    }
   ],
   "source": [
    "ax = dfw.transpose().plot.bar(figsize=(4, 4), legend=False)\n",
    "ax.set_xlabel('Cause of delay')\n",
    "ax.set_ylabel('Count')"
   ]
  },
  {
   "cell_type": "markdown",
   "id": "1fc15822-73ab-4f8f-a4c2-07bd77c79fd0",
   "metadata": {},
   "source": [
    "#### __막대도표와 히스토그램과 차이__\n",
    "\n",
    "#### 막대도표의 x축 : 각 요인변수의 서로 다른 범주\n",
    "#### 히스토그램의 x축 : 수치적으로 나타낼 수 있는 하나의 변수의 값 "
   ]
  },
  {
   "cell_type": "markdown",
   "id": "bc17010f-fff6-41d5-99bc-6018c6e74f04",
   "metadata": {},
   "source": [
    "### __1.6.2 기댓값__"
   ]
  },
  {
   "cell_type": "markdown",
   "id": "d45032b3-5ef2-42ab-803e-5cd06c5b1e51",
   "metadata": {},
   "source": [
    "#### __기댓값 계산__\n",
    "\n",
    "#### 1) 각 결과값과 발생 확률을 곱한다\n",
    "#### 2) 이 값들을 모두 더한다\n",
    "\n",
    "#### 가중평균과 같은 꼴 -> 주관적 평가에 따른 미래의 기댓값과 각 확률을 가중치만큼 모두 더한 값"
   ]
  },
  {
   "cell_type": "markdown",
   "id": "a8ca6080-e89b-433c-b8a5-26e371158186",
   "metadata": {},
   "source": [
    "\n"
   ]
  },
  {
   "cell_type": "markdown",
   "id": "f93056d1-b8fd-40fd-9f0a-75a1692ac702",
   "metadata": {},
   "source": [
    "## __1.7 상관관계__"
   ]
  },
  {
   "cell_type": "code",
   "execution_count": 13,
   "id": "4c00d7b8-e4f9-4957-886c-aeb9b15d4ec7",
   "metadata": {},
   "outputs": [
    {
     "name": "stdout",
     "output_type": "stream",
     "text": [
      "                   T       CTL       FTR        VZ      LVLT\n",
      "2012-07-02  0.422496  0.140847  0.070879  0.554180 -0.519998\n",
      "2012-07-03 -0.177448  0.066280  0.070879 -0.025976 -0.049999\n",
      "2012-07-05 -0.160548 -0.132563  0.055128 -0.051956 -0.180000\n",
      "2012-07-06  0.342205  0.132563  0.007875  0.140106 -0.359999\n",
      "2012-07-09  0.136883  0.124279 -0.023626  0.253943  0.180000\n",
      "...              ...       ...       ...       ...       ...\n",
      "2015-06-25  0.049342 -1.600000 -0.040000 -0.187790 -0.330002\n",
      "2015-06-26 -0.256586  0.039999 -0.070000  0.029650 -0.739998\n",
      "2015-06-29 -0.098685 -0.559999 -0.060000 -0.504063 -1.360000\n",
      "2015-06-30 -0.503298 -0.420000 -0.070000 -0.523829  0.199997\n",
      "2015-07-01 -0.019737  0.080000 -0.050000  0.355811  0.139999\n",
      "\n",
      "[754 rows x 5 columns]\n"
     ]
    }
   ],
   "source": [
    "# Table 1-7\n",
    "# telecommunications symbols\n",
    "telecomSymbols = sp500_sym[sp500_sym['sector'] == 'telecommunications_services']['symbol']\n",
    "\n",
    "# 2012년 7월 이후로 필터링\n",
    "telecom = sp500_px.loc[sp500_px.index >= '2012-07-01', telecomSymbols]\n",
    "telecom.corr()\n",
    "print(telecom)"
   ]
  },
  {
   "cell_type": "markdown",
   "id": "a0a88141-4a56-4f40-b554-6042142710b3",
   "metadata": {},
   "source": [
    "#### 상관계수 : 수치적 변수들 간에 어떤 관계가 있는 지 나타내기 위해 사용되는 측정량 $(-1 < r < 1)$\n",
    "## $r = \\frac{\\sum^n_{i=1} (x_i-\\bar{x})(y_i-\\bar{y})}{(n-1)s_xs_y}$"
   ]
  },
  {
   "cell_type": "markdown",
   "id": "f0bbf2d5-da47-4b74-947e-14cd4e2c9a9d",
   "metadata": {},
   "source": [
    "#### 자유도로 인하여 n이 아닌 n-1으르 곱함\n",
    "#### 변수들이 선형적인 관계를 가지고 있어야 유의미"
   ]
  },
  {
   "cell_type": "markdown",
   "id": "76103c24-0104-4aa3-8d56-131432e4c76c",
   "metadata": {},
   "source": [
    "#### 상관행렬 : 행과 열이 변수들을 의미하는 표, 각 셀은 그 행과 열에 해당하는 변수들 간의 상관관계를 의미"
   ]
  },
  {
   "cell_type": "code",
   "execution_count": 14,
   "id": "b80ce2bb-dac9-4b2a-9951-606c8db6f58b",
   "metadata": {},
   "outputs": [
    {
     "data": {
      "text/plain": [
       "<AxesSubplot:>"
      ]
     },
     "execution_count": 14,
     "metadata": {},
     "output_type": "execute_result"
    },
    {
     "data": {
      "image/png": "[encoded data removed]",
      "text/plain": [
       "<Figure size 432x288 with 2 Axes>"
      ]
     },
     "metadata": {
      "needs_background": "light"
     },
     "output_type": "display_data"
    }
   ],
   "source": [
    "# 히트맵을 사용하여 상관관계 시각화\n",
    "\n",
    "etfs = sp500_px.loc[sp500_px.index > '2012-07-01', \n",
    "                    sp500_sym[sp500_sym['sector'] == 'etf']['symbol']]\n",
    "sns.heatmap(etfs.corr(), vmin=-1, vmax=1,\n",
    "            cmap=sns.diverging_palette(20, 220, as_cmap=True))"
   ]
  },
  {
   "cell_type": "markdown",
   "id": "9f00a1c4-507c-4413-b67e-c7c80a1a3e87",
   "metadata": {},
   "source": [
    "### __1.7.1 산점도__"
   ]
  },
  {
   "cell_type": "markdown",
   "id": "8c2fe84a-bda8-4540-aac7-650faeb6ae51",
   "metadata": {},
   "source": [
    "#### 산점도 : x축과 y축이 서로 다른 두 개의 변수를 나타내는 도표\n",
    "\n",
    "#### 각 점 : 하나의 레코드 의미"
   ]
  },
  {
   "cell_type": "code",
   "execution_count": 15,
   "id": "7f605d65-10ee-4e38-9149-96963add24cb",
   "metadata": {},
   "outputs": [
    {
     "name": "stderr",
     "output_type": "stream",
     "text": [
      "findfont: Font family ['NanumSquare'] not found. Falling back to DejaVu Sans.\n"
     ]
    },
    {
     "data": {
      "text/plain": [
       "<matplotlib.lines.Line2D at 0x21f99055dc0>"
      ]
     },
     "execution_count": 15,
     "metadata": {},
     "output_type": "execute_result"
    },
    {
     "data": {
      "image/png": "[encoded data removed]",
      "text/plain": [
       "<Figure size 288x288 with 1 Axes>"
      ]
     },
     "metadata": {
      "needs_background": "light"
     },
     "output_type": "display_data"
    }
   ],
   "source": [
    "ax = telecom.plot.scatter(x='T', y='VZ', figsize=(4,4), marker='$\\u25EF$')\n",
    "ax.set_xlabel('ATT (T)')\n",
    "ax.set_ylabel('Version (VZ)')\n",
    "ax.axhline(0, color='grey', lw=1)\n",
    "ax.axvline(0, color='grey', lw=1)"
   ]
  },
  {
   "cell_type": "markdown",
   "id": "d68eaa4f-c03d-48a2-8e1f-e7eedcf1edc6",
   "metadata": {},
   "source": [
    "#### v1이 높아질 때, v2도 높아지고, v1이 낮아질 때, v2도 낮아지는 경우 : 양의 상관관계(반대일 경우 음의 상관관계)"
   ]
  },
  {
   "cell_type": "markdown",
   "id": "8bccc0bc-f1a7-4950-a41e-db9e0de77ef8",
   "metadata": {},
   "source": [
    "\n"
   ]
  },
  {
   "cell_type": "markdown",
   "id": "24c663ab-655b-4584-8144-b22a82c42a97",
   "metadata": {},
   "source": [
    "## __1.8 두 개 이상의 변수 탐색하기__"
   ]
  },
  {
   "cell_type": "markdown",
   "id": "bddcfcd3-cf85-417d-b88d-5cc6b9ad75a6",
   "metadata": {},
   "source": [
    "#### 평균, 분산 -> 한 번에 하나의 변수(일변량분석)\n",
    "#### 상관분석 -> 두 변수의 비교(이변량분석)\n",
    "#### 변수가 셋 이상 -> 다변량분석\n",
    "\n",
    "#### 이변량, 다변량분석은 데이터가 수치형인지, 범주형인지, 그 외 데이터의 특성에 따라 달라짐"
   ]
  },
  {
   "cell_type": "markdown",
   "id": "a9b95e07-5c8d-44a3-ad4e-8a6b1ff7a3bb",
   "metadata": {},
   "source": [
    "### __1.8.1 육각형 구간과 등고선(수치형 변수 대 수치형 변수를 시각화)__"
   ]
  },
  {
   "cell_type": "markdown",
   "id": "b4e59104-89b0-48cd-b13b-b96652827d4f",
   "metadata": {},
   "source": [
    "#### 산점도 : 데이터의 개수가 많을 땐 괜찮음 but 레코드 수가 많을 때 알아보기 어려움"
   ]
  },
  {
   "cell_type": "markdown",
   "id": "6efce8b7-3a89-4d8e-aa6c-dd217fbc1df8",
   "metadata": {},
   "source": [
    "#### 육각형 구간 : 두 변수를 육각형 모양의 구간으로 나눈 그림\n",
    "\n",
    "#### 점으로 표현하는 대신 기록값을 육각형 모양의 구간으로 나누고, 각 구간에 포함된 기록값의 개수에 따라 색깔을 표시"
   ]
  },
  {
   "cell_type": "code",
   "execution_count": 8,
   "id": "f988af39-3964-4246-9022-7dcbe9e6e1bc",
   "metadata": {},
   "outputs": [
    {
     "data": {
      "text/plain": [
       "(432693, 3)"
      ]
     },
     "execution_count": 8,
     "metadata": {},
     "output_type": "execute_result"
    }
   ],
   "source": [
    "# 데이터 필터링\n",
    "\n",
    "kc_tax0 = kc_tax.loc[(kc_tax.TaxAssessedValue < 750000) &\n",
    "                     (kc_tax.SqFtTotLiving > 100) &\n",
    "                     (kc_tax.SqFtTotLiving < 3500), :]\n",
    "kc_tax0.shape"
   ]
  },
  {
   "cell_type": "code",
   "execution_count": 17,
   "id": "8514e91a-863f-4277-9adc-b5be072e74db",
   "metadata": {},
   "outputs": [
    {
     "data": {
      "text/plain": [
       "Text(0, 0.5, 'Tax-Assessed Value')"
      ]
     },
     "execution_count": 17,
     "metadata": {},
     "output_type": "execute_result"
    },
    {
     "data": {
      "image/png": "[encoded data removed]",
      "text/plain": [
       "<Figure size 360x288 with 2 Axes>"
      ]
     },
     "metadata": {
      "needs_background": "light"
     },
     "output_type": "display_data"
    }
   ],
   "source": [
    "# 육각형 구간 도표\n",
    "# 집의 크기와 과세 평갸액을 나타낸 육각형 구간 도표\n",
    "\n",
    "ax = kc_tax0.plot.hexbin(x='SqFtTotLiving', y='TaxAssessedValue', # hexbin 메서드 : 육각형 구간 도표\n",
    "                         gridsize=30, sharex=False, figsize=(5,4))\n",
    "ax.set_xlabel('Finished Square Feet')\n",
    "ax.set_ylabel('Tax-Assessed Value')"
   ]
  },
  {
   "cell_type": "code",
   "execution_count": 5,
   "id": "48b7408f-aaa6-41b6-9236-d46422459713",
   "metadata": {},
   "outputs": [
    {
     "data": {
      "image/png": "[encoded data removed]",
      "text/plain": [
       "<Figure size 288x288 with 1 Axes>"
      ]
     },
     "metadata": {
      "needs_background": "light"
     },
     "output_type": "display_data"
    }
   ],
   "source": [
    "# 산점도 위에 등고선 사용\n",
    "# 등고선 위의 점들은 밀도가 같고, 꼭대기로 갈 수록 밀도는 높아짐\n",
    "\n",
    "fig, ax = plt.subplots(figsize=(4, 4))\n",
    "sns.kdeplot(data=kc_tax0.sample(10000), x='SqFtTotLiving', y='TaxAssessedValue', ax=ax)\n",
    "ax.set_xlabel('Finished Square Feet')\n",
    "ax.set_ylabel('Tax Assessed Value')\n",
    "\n",
    "plt.tight_layout()\n",
    "plt.show()"
   ]
  },
  {
   "cell_type": "markdown",
   "id": "5c52d2b1-a100-4513-95db-e3dfc58b219a",
   "metadata": {},
   "source": [
    "### __1.8.2 범주형 변수 대 범주형 변수__"
   ]
  },
  {
   "cell_type": "markdown",
   "id": "ee2be7ed-7fcf-4f77-850e-75f85b8a391c",
   "metadata": {},
   "source": [
    "#### 분할표 : 두 가지 이상의 범주형 변수의 빈도수를 기록한 표, 두 범주형 변수를 요약하는 데 효과적"
   ]
  },
  {
   "cell_type": "code",
   "execution_count": 18,
   "id": "a64d4370-d429-49ac-ac28-e6147278224d",
   "metadata": {},
   "outputs": [
    {
     "data": {
      "text/html": [
       "<div>\n",
       "<style scoped>\n",
       "    .dataframe tbody tr th:only-of-type {\n",
       "        vertical-align: middle;\n",
       "    }\n",
       "\n",
       "    .dataframe tbody tr th {\n",
       "        vertical-align: top;\n",
       "    }\n",
       "\n",
       "    .dataframe thead th {\n",
       "        text-align: right;\n",
       "    }\n",
       "</style>\n",
       "<table border=\"1\" class=\"dataframe\">\n",
       "  <thead>\n",
       "    <tr style=\"text-align: right;\">\n",
       "      <th>status</th>\n",
       "      <th>Charged Off</th>\n",
       "      <th>Current</th>\n",
       "      <th>Fully Paid</th>\n",
       "      <th>Late</th>\n",
       "      <th>All</th>\n",
       "    </tr>\n",
       "    <tr>\n",
       "      <th>grade</th>\n",
       "      <th></th>\n",
       "      <th></th>\n",
       "      <th></th>\n",
       "      <th></th>\n",
       "      <th></th>\n",
       "    </tr>\n",
       "  </thead>\n",
       "  <tbody>\n",
       "    <tr>\n",
       "      <th>A</th>\n",
       "      <td>1562</td>\n",
       "      <td>50051</td>\n",
       "      <td>20408</td>\n",
       "      <td>469</td>\n",
       "      <td>72490</td>\n",
       "    </tr>\n",
       "    <tr>\n",
       "      <th>B</th>\n",
       "      <td>5302</td>\n",
       "      <td>93852</td>\n",
       "      <td>31160</td>\n",
       "      <td>2056</td>\n",
       "      <td>132370</td>\n",
       "    </tr>\n",
       "    <tr>\n",
       "      <th>C</th>\n",
       "      <td>6023</td>\n",
       "      <td>88928</td>\n",
       "      <td>23147</td>\n",
       "      <td>2777</td>\n",
       "      <td>120875</td>\n",
       "    </tr>\n",
       "    <tr>\n",
       "      <th>D</th>\n",
       "      <td>5007</td>\n",
       "      <td>53281</td>\n",
       "      <td>13681</td>\n",
       "      <td>2308</td>\n",
       "      <td>74277</td>\n",
       "    </tr>\n",
       "    <tr>\n",
       "      <th>E</th>\n",
       "      <td>2842</td>\n",
       "      <td>24639</td>\n",
       "      <td>5949</td>\n",
       "      <td>1374</td>\n",
       "      <td>34804</td>\n",
       "    </tr>\n",
       "    <tr>\n",
       "      <th>F</th>\n",
       "      <td>1526</td>\n",
       "      <td>8444</td>\n",
       "      <td>2328</td>\n",
       "      <td>606</td>\n",
       "      <td>12904</td>\n",
       "    </tr>\n",
       "    <tr>\n",
       "      <th>G</th>\n",
       "      <td>409</td>\n",
       "      <td>1990</td>\n",
       "      <td>643</td>\n",
       "      <td>199</td>\n",
       "      <td>3241</td>\n",
       "    </tr>\n",
       "    <tr>\n",
       "      <th>All</th>\n",
       "      <td>22671</td>\n",
       "      <td>321185</td>\n",
       "      <td>97316</td>\n",
       "      <td>9789</td>\n",
       "      <td>450961</td>\n",
       "    </tr>\n",
       "  </tbody>\n",
       "</table>\n",
       "</div>"
      ],
      "text/plain": [
       "status  Charged Off  Current  Fully Paid  Late     All\n",
       "grade                                                 \n",
       "A              1562    50051       20408   469   72490\n",
       "B              5302    93852       31160  2056  132370\n",
       "C              6023    88928       23147  2777  120875\n",
       "D              5007    53281       13681  2308   74277\n",
       "E              2842    24639        5949  1374   34804\n",
       "F              1526     8444        2328   606   12904\n",
       "G               409     1990         643   199    3241\n",
       "All           22671   321185       97316  9789  450961"
      ]
     },
     "execution_count": 18,
     "metadata": {},
     "output_type": "execute_result"
    }
   ],
   "source": [
    "crosstab =  lc_loans.pivot_table(index='grade', columns='status',\n",
    "                                 aggfunc=lambda x: len(x), margins=True) # margins = 열과 행의 합계 추가, aggfunc : 분석 메서드\n",
    "crosstab"
   ]
  },
  {
   "cell_type": "code",
   "execution_count": 19,
   "id": "61ed457d-dffd-4110-8c28-8c8c1dc70e26",
   "metadata": {},
   "outputs": [
    {
     "data": {
      "text/html": [
       "<div>\n",
       "<style scoped>\n",
       "    .dataframe tbody tr th:only-of-type {\n",
       "        vertical-align: middle;\n",
       "    }\n",
       "\n",
       "    .dataframe tbody tr th {\n",
       "        vertical-align: top;\n",
       "    }\n",
       "\n",
       "    .dataframe thead th {\n",
       "        text-align: right;\n",
       "    }\n",
       "</style>\n",
       "<table border=\"1\" class=\"dataframe\">\n",
       "  <thead>\n",
       "    <tr style=\"text-align: right;\">\n",
       "      <th>status</th>\n",
       "      <th>Charged Off</th>\n",
       "      <th>Current</th>\n",
       "      <th>Fully Paid</th>\n",
       "      <th>Late</th>\n",
       "      <th>All</th>\n",
       "    </tr>\n",
       "    <tr>\n",
       "      <th>grade</th>\n",
       "      <th></th>\n",
       "      <th></th>\n",
       "      <th></th>\n",
       "      <th></th>\n",
       "      <th></th>\n",
       "    </tr>\n",
       "  </thead>\n",
       "  <tbody>\n",
       "    <tr>\n",
       "      <th>A</th>\n",
       "      <td>0.021548</td>\n",
       "      <td>0.690454</td>\n",
       "      <td>0.281528</td>\n",
       "      <td>0.006470</td>\n",
       "      <td>0.160746</td>\n",
       "    </tr>\n",
       "    <tr>\n",
       "      <th>B</th>\n",
       "      <td>0.040054</td>\n",
       "      <td>0.709013</td>\n",
       "      <td>0.235401</td>\n",
       "      <td>0.015532</td>\n",
       "      <td>0.293529</td>\n",
       "    </tr>\n",
       "    <tr>\n",
       "      <th>C</th>\n",
       "      <td>0.049828</td>\n",
       "      <td>0.735702</td>\n",
       "      <td>0.191495</td>\n",
       "      <td>0.022974</td>\n",
       "      <td>0.268039</td>\n",
       "    </tr>\n",
       "    <tr>\n",
       "      <th>D</th>\n",
       "      <td>0.067410</td>\n",
       "      <td>0.717328</td>\n",
       "      <td>0.184189</td>\n",
       "      <td>0.031073</td>\n",
       "      <td>0.164708</td>\n",
       "    </tr>\n",
       "    <tr>\n",
       "      <th>E</th>\n",
       "      <td>0.081657</td>\n",
       "      <td>0.707936</td>\n",
       "      <td>0.170929</td>\n",
       "      <td>0.039478</td>\n",
       "      <td>0.077177</td>\n",
       "    </tr>\n",
       "    <tr>\n",
       "      <th>F</th>\n",
       "      <td>0.118258</td>\n",
       "      <td>0.654371</td>\n",
       "      <td>0.180409</td>\n",
       "      <td>0.046962</td>\n",
       "      <td>0.028614</td>\n",
       "    </tr>\n",
       "    <tr>\n",
       "      <th>G</th>\n",
       "      <td>0.126196</td>\n",
       "      <td>0.614008</td>\n",
       "      <td>0.198396</td>\n",
       "      <td>0.061401</td>\n",
       "      <td>0.007187</td>\n",
       "    </tr>\n",
       "  </tbody>\n",
       "</table>\n",
       "</div>"
      ],
      "text/plain": [
       "status  Charged Off   Current  Fully Paid      Late       All\n",
       "grade                                                        \n",
       "A          0.021548  0.690454    0.281528  0.006470  0.160746\n",
       "B          0.040054  0.709013    0.235401  0.015532  0.293529\n",
       "C          0.049828  0.735702    0.191495  0.022974  0.268039\n",
       "D          0.067410  0.717328    0.184189  0.031073  0.164708\n",
       "E          0.081657  0.707936    0.170929  0.039478  0.077177\n",
       "F          0.118258  0.654371    0.180409  0.046962  0.028614\n",
       "G          0.126196  0.614008    0.198396  0.061401  0.007187"
      ]
     },
     "execution_count": 19,
     "metadata": {},
     "output_type": "execute_result"
    }
   ],
   "source": [
    "df = crosstab.loc['A':'G',:].copy() # 열 합계를 무시하고 피벗 테이블의 복사본을 만듦\n",
    "df.loc[:,'Charged Off':'Late'] = df.loc[:,'Charged Off':'Late'].div(df['All'], axis=0) # 행 합계로 행을 나눔\n",
    "\n",
    "df['All'] = df['All'] / sum(df['All']) # All 열을 총합으로 나눔\n",
    "perc_crosstab = df\n",
    "\n",
    "perc_crosstab"
   ]
  },
  {
   "cell_type": "markdown",
   "id": "5058e62e-80be-40f6-a2c9-010f796450f8",
   "metadata": {},
   "source": [
    "### __1.8.3 범주형 변수 대 수치형 변수__"
   ]
  },
  {
   "cell_type": "markdown",
   "id": "2177a268-78d8-493f-9f85-c3202e97b78a",
   "metadata": {},
   "source": [
    "#### 상자그림 : 범주형 변수에 따라 분류된 수치형 변수의 분포를 시각화하여 비교하는 간단한 방법"
   ]
  },
  {
   "cell_type": "code",
   "execution_count": 5,
   "id": "3af01172-8c5f-4ac9-8106-b053c3e826eb",
   "metadata": {},
   "outputs": [
    {
     "name": "stderr",
     "output_type": "stream",
     "text": [
      "findfont: Font family ['NanumSquare'] not found. Falling back to DejaVu Sans.\n",
      "findfont: Font family ['NanumSquare'] not found. Falling back to DejaVu Sans.\n"
     ]
    },
    {
     "data": {
      "image/png": "[encoded data removed]",
      "text/plain": [
       "<Figure size 432x288 with 1 Axes>"
      ]
     },
     "metadata": {
      "needs_background": "light"
     },
     "output_type": "display_data"
    }
   ],
   "source": [
    "ax = airline_stats.boxplot(by='airline', column='pct_carrier_delay')\n",
    "ax.set_xlabel('')\n",
    "ax.set_ylabel('Daily % of Delayed Flights')\n",
    "plt.suptitle('')\n",
    "\n",
    "plt.tight_layout()\n",
    "plt.show()"
   ]
  },
  {
   "cell_type": "markdown",
   "id": "b97692dd-48f9-407b-855c-a486d5a66043",
   "metadata": {},
   "source": [
    "#### 바이올린 도표 : 상자그림 보완, y축을 따라 밀도추정 결과를 동시에 시각화\n",
    "#### 상자그림에서는 바로 보이지 않는 데이터의 분포를 볼 수 있다.\n",
    "#### 상자그림 :  데이터의 특잇값들을 좀 더 명확히 보여줌"
   ]
  },
  {
   "cell_type": "code",
   "execution_count": 7,
   "id": "7bb4af53-c1cb-49b5-8054-ad3de012a3f9",
   "metadata": {},
   "outputs": [
    {
     "name": "stderr",
     "output_type": "stream",
     "text": [
      "C:\\Users\\sma06\\anaconda3\\envs\\pydatavenv\\lib\\site-packages\\seaborn\\_decorators.py:36: FutureWarning: Pass the following variables as keyword args: x, y. From version 0.12, the only valid positional argument will be `data`, and passing other arguments without an explicit keyword will result in an error or misinterpretation.\n",
      "  warnings.warn(\n"
     ]
    },
    {
     "data": {
      "image/png": "[encoded data removed]",
      "text/plain": [
       "<Figure size 360x360 with 1 Axes>"
      ]
     },
     "metadata": {
      "needs_background": "light"
     },
     "output_type": "display_data"
    }
   ],
   "source": [
    "# 바이올린 도표\n",
    "fig, ax = plt.subplots(figsize=(5, 5))\n",
    "ax = sns.violinplot(airline_stats.airline, airline_stats.pct_carrier_delay,\n",
    "                    inner='quartile',color='white')\n",
    "\n",
    "ax.set_xlabel('')\n",
    "ax.set_ylabel('Daily % of Delayed Flights')\n",
    "\n",
    "plt.tight_layout()\n",
    "plt.show()"
   ]
  },
  {
   "cell_type": "markdown",
   "id": "51a16247-d118-40c6-8467-6d9d8e2747df",
   "metadata": {},
   "source": [
    "\n"
   ]
  },
  {
   "cell_type": "markdown",
   "id": "4e3c2413-25fb-4ebb-a1bf-e46c491fcaf2",
   "metadata": {},
   "source": [
    "### __1.8.4 다변수 시각화하기__"
   ]
  },
  {
   "cell_type": "markdown",
   "id": "c5c7428b-0871-46e2-8fe6-dbc1463023a3",
   "metadata": {},
   "source": [
    "#### 조건화 -> 두 변수 비교용 도표(산점도, 육각형 구간, 상자그림)를 더 여러 변수를 비교하는 용도로 확장하여 활용 가능"
   ]
  },
  {
   "cell_type": "code",
   "execution_count": 12,
   "id": "ce63edd5-aa03-4087-801d-466ee8e0999f",
   "metadata": {},
   "outputs": [
    {
     "data": {
      "text/plain": [
       "<seaborn.axisgrid.FacetGrid at 0x1a4002ffe20>"
      ]
     },
     "execution_count": 12,
     "metadata": {},
     "output_type": "execute_result"
    },
    {
     "data": {
      "image/png": "[encoded data removed]",
      "text/plain": [
       "<Figure size 432x432 with 4 Axes>"
      ]
     },
     "metadata": {
      "needs_background": "light"
     },
     "output_type": "display_data"
    }
   ],
   "source": [
    "# 우편번호 별로 묶어서 도식화\n",
    "\n",
    "zip_codes = [98188,98105,98108,98126]\n",
    "kc_tax_zip = kc_tax0.loc[kc_tax0.ZipCode.isin(zip_codes),:]\n",
    "kc_tax_zip\n",
    "\n",
    "def hexbin(x,y,color, **kwargs): # 육각형 구간\n",
    "    cmap = sns.light_palette(color, as_cmap=True)\n",
    "    plt.hexbin(x, y, gridsize=25, cmap=cmap, **kwargs)\n",
    "\n",
    "g = sns.FacetGrid(kc_tax_zip, col='ZipCode', col_wrap=2)\n",
    "# 조건 변수 지정 시 col 및 row 인수 사용, 단일 조건 변수의 경우 col wrap과 함께 col을 사용하여 패싯 그래프를 여러 행으로 래핑\n",
    "\n",
    "g.map(hexbin, 'SqFtTotLiving', 'TaxAssessedValue',\n",
    "      extent=[0, 3500, 0, 700000]) \n",
    "# map 메서드 : 다른 우편번호에 대한 원래 데이터 집합의 서브셋에 대해 hexbin 함수 호출\n",
    "# extent : x축과 y축의 한계 지정\n",
    "\n",
    "g.set_axis_labels('Finished Square Feet', 'Tax-Assessed Value')\n",
    "g.set_titles('Zip code {col_name:.0f}')"
   ]
  },
  {
   "cell_type": "code",
   "execution_count": null,
   "id": "e9d5aa4d-f04a-4a2b-befb-c547e3ab20a6",
   "metadata": {},
   "outputs": [],
   "source": []
  },
  {
   "cell_type": "code",
   "execution_count": null,
   "id": "2eb711bf-aa4e-4a53-ba19-ef5368bb1768",
   "metadata": {},
   "outputs": [],
   "source": []
  },
  {
   "cell_type": "code",
   "execution_count": null,
   "id": "d7a69faf-9c8f-458b-8543-23406bfa070d",
   "metadata": {},
   "outputs": [],
   "source": []
  },
  {
   "cell_type": "code",
   "execution_count": null,
   "id": "69e3ddf1-9bb6-40e2-b16a-b881850ca45b",
   "metadata": {},
   "outputs": [],
   "source": []
  },
  {
   "cell_type": "code",
   "execution_count": null,
   "id": "eb3a25cd-e39c-43e2-b5e3-9c5fd21a88ee",
   "metadata": {},
   "outputs": [],
   "source": []
  },
  {
   "cell_type": "code",
   "execution_count": null,
   "id": "32fff0e3-a808-43fe-85c0-5445ac68b3c7",
   "metadata": {},
   "outputs": [],
   "source": []
  },
  {
   "cell_type": "code",
   "execution_count": null,
   "id": "67c7f3f7-3499-45d4-b1e8-ce764b4f266d",
   "metadata": {},
   "outputs": [],
   "source": []
  },
  {
   "cell_type": "code",
   "execution_count": null,
   "id": "6ea12101-a6e9-4163-8444-4e88619e3de6",
   "metadata": {},
   "outputs": [],
   "source": []
  },
  {
   "cell_type": "code",
   "execution_count": null,
   "id": "6bacb3d9-137c-48af-b060-1a5b49e68597",
   "metadata": {},
   "outputs": [],
   "source": []
  },
  {
   "cell_type": "code",
   "execution_count": null,
   "id": "17172081-f4cf-4032-a3ff-2efe849f4f14",
   "metadata": {},
   "outputs": [],
   "source": []
  },
  {
   "cell_type": "code",
   "execution_count": null,
   "id": "3adaf0a6-5928-48b1-8dba-83ac6fc9790d",
   "metadata": {},
   "outputs": [],
   "source": []
  },
  {
   "cell_type": "code",
   "execution_count": null,
   "id": "c5d4825d-cb15-4745-9e77-478dee08eb96",
   "metadata": {},
   "outputs": [],
   "source": []
  },
  {
   "cell_type": "code",
   "execution_count": null,
   "id": "98730320-54ba-4608-af01-2d38f41e10a3",
   "metadata": {},
   "outputs": [],
   "source": []
  },
  {
   "cell_type": "code",
   "execution_count": null,
   "id": "907d06ec-a466-4731-8f81-fad0f13fb87a",
   "metadata": {},
   "outputs": [],
   "source": []
  },
  {
   "cell_type": "code",
   "execution_count": null,
   "id": "4ce611a8-bfda-46a8-8c43-922e1d7b9e80",
   "metadata": {},
   "outputs": [],
   "source": []
  },
  {
   "cell_type": "code",
   "execution_count": null,
   "id": "0459a416-aedc-4e21-a62f-03309e1670f0",
   "metadata": {},
   "outputs": [],
   "source": []
  },
  {
   "cell_type": "code",
   "execution_count": null,
   "id": "060b017a-2297-4612-8729-5e2daaeee19d",
   "metadata": {},
   "outputs": [],
   "source": []
  },
  {
   "cell_type": "code",
   "execution_count": null,
   "id": "7d0274df-9357-4881-aca0-25bb10ab3507",
   "metadata": {},
   "outputs": [],
   "source": []
  },
  {
   "cell_type": "code",
   "execution_count": null,
   "id": "76b8c003-662e-4023-b7ae-51885be5cd44",
   "metadata": {},
   "outputs": [],
   "source": []
  },
  {
   "cell_type": "code",
   "execution_count": null,
   "id": "23f6c1b8-cacc-4566-9aa5-c8bd633d35ae",
   "metadata": {},
   "outputs": [],
   "source": []
  },
  {
   "cell_type": "code",
   "execution_count": null,
   "id": "4ca082bb-bcf3-44a6-835b-d485eac8d169",
   "metadata": {},
   "outputs": [],
   "source": []
  },
  {
   "cell_type": "code",
   "execution_count": null,
   "id": "aadc520b-9bdf-4bf6-ba01-723000c10426",
   "metadata": {},
   "outputs": [],
   "source": []
  }
 ],
 "metadata": {
  "kernelspec": {
   "display_name": "pydatavenv",
   "language": "python",
   "name": "pydatavenv"
  },
  "language_info": {
   "codemirror_mode": {
    "name": "ipython",
    "version": 3
   },
   "file_extension": ".py",
   "mimetype": "text/x-python",
   "name": "python",
   "nbconvert_exporter": "python",
   "pygments_lexer": "ipython3",
   "version": "3.9.12"
  }
 },
 "nbformat": 4,
 "nbformat_minor": 5
}
