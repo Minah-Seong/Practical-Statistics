{
 "cells": [
  {
   "cell_type": "markdown",
   "id": "bfb5b8d3-d4e3-4455-827b-e67db8b78dba",
   "metadata": {},
   "source": [
    "# __1. 탐색적 데이터 분석__"
   ]
  },
  {
   "cell_type": "markdown",
   "id": "df26465e-9c51-43b3-bdf6-c63da6c19b4f",
   "metadata": {
    "tags": []
   },
   "source": [
    "##### 파이썬 패키지 import"
   ]
  },
  {
   "cell_type": "code",
   "execution_count": 1,
   "id": "afd3f636-8c27-4a25-897c-4348f4265c78",
   "metadata": {},
   "outputs": [],
   "source": [
    "%matplotlib inline\n",
    "\n",
    "from pathlib import Path\n",
    "\n",
    "import pandas as pd\n",
    "import numpy as np\n",
    "from scipy.stats import trim_mean\n",
    "from statsmodels import robust\n",
    "import wquantiles\n",
    "\n",
    "import seaborn as sns\n",
    "import matplotlib.pylab as plt"
   ]
  },
  {
   "cell_type": "markdown",
   "id": "72daf81d-1531-4244-be9b-eada76c85009",
   "metadata": {},
   "source": [
    "## __1.1 정형화된 데이터의 요소__"
   ]
  },
  {
   "cell_type": "markdown",
   "id": "52aeda9f-c314-4511-8cb8-cd9505824b1e",
   "metadata": {},
   "source": [
    "#### 수치형 : 숫자를 이용해 표현할 수 있는 데이터\n",
    "#### 연속형 : 일정 범위 안에서 어떤 값이든 취할 수 있는 데이터\n",
    "#### 이산 : 정수 값만 취할 수 있는 데이터\n",
    "#### 범주형 : 가능하나 범주 안의 값만을 취하는 데이터 (=명목형)\n",
    "#### 이진 : 두 개의 값만을 갖는 범주형 데이터의 특수한 경우\n",
    "#### 순서형 : 값들 사이에 분명한 순위가 있는 범주형 데이터"
   ]
  },
  {
   "cell_type": "markdown",
   "id": "df71180d-b4e1-4d7e-8b28-4a983863d26f",
   "metadata": {
    "tags": []
   },
   "source": [
    "## __1.2 테이블 데이터__"
   ]
  },
  {
   "cell_type": "markdown",
   "id": "78f0c858-8593-4ace-9feb-4d0078cf8052",
   "metadata": {},
   "source": [
    "#### 테이블 데이터 : 스프레드시트와 같은 테이블 형테의 데이터 구조(이차원 행렬)\n",
    "#### 피처 : 일반적으로 테이블의 각 열\n",
    "#### 결과 : 데이터 과학 프로젝트의 목표: 어떠한 결과를 예측, 결과 예측을 위해 피처 사용\n",
    "#### 레코드 : 일반적으로 테이블의 각 행"
   ]
  },
  {
   "cell_type": "markdown",
   "id": "b445bc5b-756d-4c6d-a288-feb6ffbda97f",
   "metadata": {},
   "source": [
    "## __1.3 위치 추정__"
   ]
  },
  {
   "cell_type": "markdown",
   "id": "3b063569-33b7-4132-9864-3b66d203b390",
   "metadata": {
    "tags": []
   },
   "source": [
    "### __1.3.1 평균__"
   ]
  },
  {
   "cell_type": "markdown",
   "id": "1ff15376-a13e-431b-b8ab-ab65b3a56c4e",
   "metadata": {},
   "source": [
    "#### 평균 : 모든 값을 총합의 개수로 나눈 값\n",
    "## $\\bar{x} = \\frac{\\sum^n_{i=1}{x}_i}{n}$"
   ]
  },
  {
   "cell_type": "markdown",
   "id": "14eb7fa6-7e08-48c6-a2ed-750e83bd34b7",
   "metadata": {},
   "source": [
    "#### 절사평균 : 정해진 개수의 극단값을 제외한 나머지 값들의 평균\n",
    "#### p : 가장 크고 작은 값들의 개수\n",
    "## $\\bar{x} = \\frac{\\sum^{n-p}_{i=p+1} {x}_{(i)}}{n-2p}$"
   ]
  },
  {
   "cell_type": "markdown",
   "id": "470c95b5-4b85-463e-a5e5-5c0205fb197a",
   "metadata": {},
   "source": [
    "#### 가중평균 : 데이터를 정렬한 후, 각 가중치 값을 위에서부터 더할 때, 총합의 중간이 위치하는 데이터 값\n",
    "#### ${w_i} =$ 사용자가 지정한 가중치\n",
    "## $\\bar{x_i} = \\frac{\\sum^n_{i=1}w_i x_i}{\\sum^n_{i=1} {w_i}}$"
   ]
  },
  {
   "cell_type": "markdown",
   "id": "e97e63d9-0f9f-41d9-9976-498ad8155ead",
   "metadata": {},
   "source": [
    "### __1.3.2 중간값과 로버스트 추정__"
   ]
  },
  {
   "cell_type": "markdown",
   "id": "7bd57e26-6f5b-473f-990a-4b842c14b4b5",
   "metadata": {},
   "source": [
    "#### 중간값 : 데이터에서 가장 가운데 위치한 값\n",
    "#### 가중 중간값 : 데이터를 정렬한 후, 각 가중치 값을 위에서부터 더할 때, 총합의 중간이 위치하는 데이터 값\n",
    "#### 백분위수 : 전체 데이터의 P%를 아래에 두는 값\n",
    "#### 로버스트하다 : 극단값에 민감하지 않다\n",
    "#### 특잇값(outliner) : 대부분의 값과 매우 다른 데이터 값(=극단값)"
   ]
  },
  {
   "cell_type": "markdown",
   "id": "0ec4de28-7b26-4251-9bba-885a4bb3a2d9",
   "metadata": {},
   "source": [
    "### __예제 : 인구에 따른 살인 비율의 위치 추정__"
   ]
  },
  {
   "cell_type": "code",
   "execution_count": 7,
   "id": "1f32a804-64ee-4aeb-96b7-21e666b79425",
   "metadata": {},
   "outputs": [
    {
     "name": "stdout",
     "output_type": "stream",
     "text": [
      "6162876.3\n",
      "4783697.125\n",
      "4436369.5\n"
     ]
    }
   ],
   "source": [
    "state = pd.read_csv('./data/state.csv')\n",
    "print(state['Population'].mean()) # 평균\n",
    "print(trim_mean(state['Population'],0.1)) # 절사평균\n",
    "print(state['Population'].median()) # 중간값"
   ]
  },
  {
   "cell_type": "code",
   "execution_count": null,
   "id": "4f27e4f4-a00e-4be3-a48e-40881d183759",
   "metadata": {},
   "outputs": [],
   "source": []
  },
  {
   "cell_type": "code",
   "execution_count": null,
   "id": "0bfcee3b-bd41-4749-9ca1-4a8edb2d8c33",
   "metadata": {},
   "outputs": [],
   "source": []
  },
  {
   "cell_type": "code",
   "execution_count": null,
   "id": "bccbe910-9264-4048-b52f-fd101a514b52",
   "metadata": {},
   "outputs": [],
   "source": []
  },
  {
   "cell_type": "code",
   "execution_count": null,
   "id": "2efafcb1-7969-4fdf-9f0e-62382013c1a5",
   "metadata": {},
   "outputs": [],
   "source": []
  },
  {
   "cell_type": "code",
   "execution_count": null,
   "id": "bfa85edf-8ddc-4012-9f11-a7457ed1cec6",
   "metadata": {},
   "outputs": [],
   "source": []
  },
  {
   "cell_type": "code",
   "execution_count": null,
   "id": "0a537c60-8037-4057-8210-5cbf04239def",
   "metadata": {},
   "outputs": [],
   "source": []
  },
  {
   "cell_type": "code",
   "execution_count": null,
   "id": "d86f3643-404d-4932-bca0-765c7db727ad",
   "metadata": {},
   "outputs": [],
   "source": []
  },
  {
   "cell_type": "code",
   "execution_count": null,
   "id": "0e043e53-7b22-49ff-ab84-ec2a3d7b9680",
   "metadata": {},
   "outputs": [],
   "source": []
  },
  {
   "cell_type": "code",
   "execution_count": null,
   "id": "022d06e4-5faa-409a-bc1b-0bedea2edda2",
   "metadata": {},
   "outputs": [],
   "source": []
  },
  {
   "cell_type": "code",
   "execution_count": null,
   "id": "6f73d43c-2641-4fe8-9db3-374489143482",
   "metadata": {},
   "outputs": [],
   "source": []
  },
  {
   "cell_type": "code",
   "execution_count": null,
   "id": "efb2f98f-7635-466a-aa86-15c41ea4727a",
   "metadata": {},
   "outputs": [],
   "source": []
  },
  {
   "cell_type": "code",
   "execution_count": null,
   "id": "cb13b17a-2211-4e48-8ab3-e4f24006436f",
   "metadata": {},
   "outputs": [],
   "source": []
  },
  {
   "cell_type": "code",
   "execution_count": null,
   "id": "d493b533-f642-4a7c-a85c-2fac0ed8b3c8",
   "metadata": {},
   "outputs": [],
   "source": []
  },
  {
   "cell_type": "code",
   "execution_count": null,
   "id": "642b0509-8d8b-42e5-89e2-4b487192a708",
   "metadata": {},
   "outputs": [],
   "source": []
  },
  {
   "cell_type": "code",
   "execution_count": null,
   "id": "a3e4acf2-1c3d-4046-b225-1fb96a426772",
   "metadata": {},
   "outputs": [],
   "source": []
  },
  {
   "cell_type": "code",
   "execution_count": null,
   "id": "ca85e20e-8096-40dd-9816-012a9bae6063",
   "metadata": {},
   "outputs": [],
   "source": []
  }
 ],
 "metadata": {
  "kernelspec": {
   "display_name": "pydatavenv",
   "language": "python",
   "name": "pydatavenv"
  },
  "language_info": {
   "codemirror_mode": {
    "name": "ipython",
    "version": 3
   },
   "file_extension": ".py",
   "mimetype": "text/x-python",
   "name": "python",
   "nbconvert_exporter": "python",
   "pygments_lexer": "ipython3",
   "version": "3.9.12"
  }
 },
 "nbformat": 4,
 "nbformat_minor": 5
}
